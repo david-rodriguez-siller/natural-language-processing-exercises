{
 "cells": [
  {
   "cell_type": "markdown",
   "id": "7247470e",
   "metadata": {},
   "source": [
    "### Data Acquisition Exercises\n",
    "\n",
    "By the end of this exercise, you should have a file named `acquire.py` that contains the specified functions. If you wish, you may break your work into separate files for each website, but the end function should be present in `acquire.py`."
   ]
  },
  {
   "cell_type": "code",
   "execution_count": 167,
   "id": "dfb86db3",
   "metadata": {},
   "outputs": [],
   "source": [
    "import requests\n",
    "from bs4 import BeautifulSoup\n",
    "import pandas as pd\n",
    "import re\n",
    "from time import strftime"
   ]
  },
  {
   "cell_type": "markdown",
   "id": "cb92e09f",
   "metadata": {},
   "source": [
    "1. Codeup Blog Articles\n",
    "\n",
    "Visit Codeup's Blog and record the urls for at least 5 distinct blog posts. For each post, you should scrape at least the post's title and content.\n",
    "\n",
    "Encapsulate your work in a function named get_blog_articles that will return a list of dictionaries, with each dictionary representing one article. The shape of each dictionary should look like this:\n",
    "\n",
    "---\n",
    "\n",
    "    'title': 'the title of the article',\n",
    "    'content': 'the full text content of the article'\n",
    "\n",
    "---\n",
    "\n",
    "Plus any additional properties you think might be helpful.\n",
    "\n",
    "**Bonus:** Scrape the text of all the articles linked on codeup's blog page."
   ]
  },
  {
   "cell_type": "markdown",
   "id": "5fddcb69",
   "metadata": {},
   "source": [
    "**https://codeup.com/codeup-news/codeup-start-dates-for-march-2022/**\n",
    "    \n",
    "**https://codeup.com/codeup-news/vet-tec-funding-dallas/**\n",
    "    \n",
    "**https://codeup.com/codeup-news/dallas-campus-re-opens-with-new-grant-partner/**\n",
    "    \n",
    "**https://codeup.com/dallas-newsletter/codeup-dallas-open-house/**\n",
    "    \n",
    "**https://codeup.com/codeup-news/codeups-placement-team-continues-setting-records/**"
   ]
  },
  {
   "cell_type": "code",
   "execution_count": 25,
   "id": "e5e055b5",
   "metadata": {},
   "outputs": [],
   "source": [
    "urls = ['https://codeup.com/codeup-news/codeup-start-dates-for-march-2022/', \n",
    "        'https://codeup.com/codeup-news/vet-tec-funding-dallas/', \n",
    "        'https://codeup.com/codeup-news/dallas-campus-re-opens-with-new-grant-partner/', \n",
    "        'https://codeup.com/dallas-newsletter/codeup-dallas-open-house/', \n",
    "        'https://codeup.com/codeup-news/codeups-placement-team-continues-setting-records/']"
   ]
  },
  {
   "cell_type": "code",
   "execution_count": 74,
   "id": "eec29747",
   "metadata": {
    "scrolled": true
   },
   "outputs": [],
   "source": [
    "response_1 = requests.get(urls[0], headers={'user-agent': 'Codeup DS Hopper'})\n",
    "response_2 = requests.get(urls[1], headers={'user-agent': 'Codeup DS Hopper'})\n",
    "response_3 = requests.get(urls[2], headers={'user-agent': 'Codeup DS Hopper'})\n",
    "response_4 = requests.get(urls[3], headers={'user-agent': 'Codeup DS Hopper'})\n",
    "response_5 = requests.get(urls[4], headers={'user-agent': 'Codeup DS Hopper'})\n",
    "\n",
    "soup_1 = BeautifulSoup(response_1.text)\n",
    "soup_2 = BeautifulSoup(response_2.text)\n",
    "soup_3 = BeautifulSoup(response_3.text)\n",
    "soup_4 = BeautifulSoup(response_4.text)\n",
    "soup_5 = BeautifulSoup(response_5.text)\n",
    "\n",
    "soup_list = [soup_1, soup_2, soup_3, soup_4, soup_5]"
   ]
  },
  {
   "cell_type": "code",
   "execution_count": 177,
   "id": "0f669224",
   "metadata": {},
   "outputs": [
    {
     "name": "stdout",
     "output_type": "stream",
     "text": [
      "Codeup Start Dates for March 2022\n",
      "VET TEC Funding Now Available For Dallas Veterans\n",
      "Dallas Campus Re-opens With New Grant Partner\n",
      "Codeup Dallas Open House\n",
      "Codeup’s Placement Team Continues Setting Records\n"
     ]
    }
   ],
   "source": [
    "for soup in soup_list:\n",
    "    print(soup.select_one('.entry-title').text)"
   ]
  },
  {
   "cell_type": "code",
   "execution_count": 116,
   "id": "06294bd2",
   "metadata": {},
   "outputs": [],
   "source": [
    "content = []\n",
    "n = 0\n",
    "for soup in soup_list:\n",
    "    content.insert(n, re.sub(r'\\s{2}', '', soup.find('div', id = 'main-content').text.strip()))\n",
    "    n = n + 1"
   ]
  },
  {
   "cell_type": "code",
   "execution_count": 118,
   "id": "0cdc9db6",
   "metadata": {
    "scrolled": false
   },
   "outputs": [
    {
     "data": {
      "text/plain": [
       "'Codeup Start Dates for March 2022\\nJan 26, 2022 | Codeup News\\nAs we approach the end of January we wanted to look forward to our next start dates for all of our current programs.\\nFull Stack Web Development – 3/7/22\\nFull Stack Web Development is the first program we built and also our most popular. You’ve asked and we listened! Our next Web Development cohort will start on 3/7/2022 and is ENTIRELY VIRTUAL! THESE SEATS WILL GO FAST!\\nAs one of the most in-demand jobs in the country, software and web development is the tech career with the newest jobs. In the U.S., there’s:1.5 million developer jobs*\\n250,000 of them remain open\\na high growth rate of 13%*Data Science – 3/22/22\\nOur first new Data Science class of 2022 starts Monday 3/22/2022 at our downtown campus at the Vogue building.\\nWhy consider pivoting careers to Data Science?#1 job in America from 2016-2020 (Glassdoor*)\\n650% increase in data science positions since 2012\\nNearly 12 million new jobs between 2019 and 2029\\n31% ten-year growth rateThe supply of data scientists remains painfully low compared to the outrageous demand. YOU can help close the gap while launching a fulfilling, secure, and high-paying career – one of the very best in the country!\\nEmployers are scrambling to find talent due to a lack of qualified applicants. YOU can help fill the gap while future-proofing your skillset. Have the flexibility, security, and salary that you’ve always wanted in a career.\\nAre you ready to launch your career in tech? Apply today so our admissions team can save your seat and get your name on the list. Our application can be found here.Want to experience Codeup early? Join one of our workshops to get an intro to a specific coding language, learn about our financing options, or maybe even code yourself a resume! All of our events can be located here.We can’t wait to help you launch your career in tech!\\nOur ProgramsFull Stack Web Development\\nData Science\\nSystems EngineeringLatest Blog Articles\\nCodeup Start Dates for March 2022\\nVET TEC Funding Now Available For Dallas Veterans\\nDallas Campus Re-opens With New Grant Partner\\nCodeup Dallas Open House\\nCodeup’s Placement Team Continues Setting Records'"
      ]
     },
     "execution_count": 118,
     "metadata": {},
     "output_type": "execute_result"
    }
   ],
   "source": [
    "content[0]"
   ]
  },
  {
   "cell_type": "code",
   "execution_count": null,
   "id": "42c8b57f",
   "metadata": {},
   "outputs": [],
   "source": []
  },
  {
   "cell_type": "code",
   "execution_count": null,
   "id": "4a20c6c1",
   "metadata": {},
   "outputs": [],
   "source": []
  },
  {
   "cell_type": "code",
   "execution_count": null,
   "id": "22b64989",
   "metadata": {
    "scrolled": true
   },
   "outputs": [],
   "source": []
  },
  {
   "cell_type": "code",
   "execution_count": null,
   "id": "50798597",
   "metadata": {
    "scrolled": true
   },
   "outputs": [],
   "source": []
  },
  {
   "cell_type": "code",
   "execution_count": 172,
   "id": "9a59c198",
   "metadata": {},
   "outputs": [
    {
     "data": {
      "text/plain": [
       "'Codeup’s Placement Team Continues Setting Records'"
      ]
     },
     "execution_count": 172,
     "metadata": {},
     "output_type": "execute_result"
    }
   ],
   "source": [
    "title = soup.select_one('.entry-title').text\n",
    "title"
   ]
  },
  {
   "cell_type": "code",
   "execution_count": 170,
   "id": "148d2e1d",
   "metadata": {},
   "outputs": [
    {
     "data": {
      "text/plain": [
       "'Nov 19, 2021'"
      ]
     },
     "execution_count": 170,
     "metadata": {},
     "output_type": "execute_result"
    }
   ],
   "source": [
    "published = soup.select_one('.published').text\n",
    "published"
   ]
  },
  {
   "cell_type": "code",
   "execution_count": 173,
   "id": "1b6e86b1",
   "metadata": {
    "scrolled": true
   },
   "outputs": [
    {
     "data": {
      "text/plain": [
       "'\\n\\n\\n\\n\\n\\nOur Placement Team is simply defined as a group that manages relationships with our employer partners and our graduating students to help get our graduating students hired. Last quarter the Placement Team helped 48 students get hired to life-changing careers in tech. Last month our Placement Team has already placed 40 students with top tech companies. For that, we want to send a huge thank you to both our Placement Team and our Employer Partners who have done a tremendous job of helping Codeup empower life change for these students.\\nWho exactly got hired and where? Check out the list below!\\n\\n\\nRobert Sledge – hired at Accenture Federal as a Software Engineering Associate\\nMatthew Walker – hired at Accenture Federal as a Software Engineering Associate\\nMatthew Dalton – hired at Oracle as an APEX Developer\\nDustin Martinez – hired at Accenture Federal as a Software Engineering Associate\\nKelvon Pointer-Patterson – hired at Accenture Federal as a Java Developer Associate\\nKenyon Luce – hired at Accenture Federal as a Java Developer Associate\\nJuan Garcia – hired at Accenture Federal as a Software Engineering Associate\\nAlexander Hernando-Avitia – hired at Accenture Federal as a Software Engineering Associate\\nJohn Pierce – hired at Accenture Federal as a Software Engineering Associate\\nDavid Wagnon – hired at Social Solutions as a Associate Software Engineer\\nEvan Williams – hired at Social Solutions as a Associate Software Engineer\\nRose Barcus – hired at Accenture Federal as a Software Engineering Associate\\nDavid Culver – hired at Accenture Federal as a Software Engineering Associate\\nAustin Whitley – hired at Accenture Federal as a Software Engineering Associate\\nAnna Vu – hired at Sparrow Partners as a Data Scientist\\nRobert Murphy – hired at Lone Star Analysis as a Analysis Professional\\nCindy Villanueva – hired at Colorado Community Managed Care Network as a Data Engineer\\nMitchell Higue – hired at USAA as a Full Stack Developer Jr.\\n\\n\\n\\n\\nCurious what it’s like to hire a Codeup graduate? Check out our hiring process here.\\nWant to land a life changing career like these students did? Check our list of programs offered here.\\n\\n\\n\\n \\n\\n'"
      ]
     },
     "execution_count": 173,
     "metadata": {},
     "output_type": "execute_result"
    }
   ],
   "source": [
    "content = soup.select_one('.entry-content').text\n",
    "content"
   ]
  },
  {
   "cell_type": "markdown",
   "id": "b3a0fb69",
   "metadata": {},
   "source": [
    "2. News Articles\n",
    "\n",
    "We will now be scraping text data from inshorts, a website that provides a brief overview of many different topics.\n",
    "\n",
    "Write a function that scrapes the news articles for the following topics:\n",
    "\n",
    " - Business\n",
    " - Sports\n",
    " - Technology\n",
    " - Entertainment\n",
    "\n",
    "The end product of this should be a function named get_news_articles that returns a list of dictionaries, where each dictionary has this shape:\n",
    "\n",
    "---\n",
    "\n",
    "    'title': 'The article title',\n",
    "    'content': 'The article content',\n",
    "    'category': 'business' # for example\n",
    "\n",
    "---\n",
    "\n",
    "Hints:\n",
    "\n",
    " - Start by inspecting the website in your browser. Figure out which elements will be useful.\n",
    " - Start by creating a function that handles a single article and produces a dictionary like the one above.\n",
    " - Next create a function that will find all the articles on a single page and call the function you created in the last step for every article on the page.\n",
    " - Now create a function that will use the previous two functions to scrape the articles from all the pages that you need, and do any additional processing that needs to be done.\n",
    "\n"
   ]
  },
  {
   "cell_type": "code",
   "execution_count": 181,
   "id": "ab93a75c",
   "metadata": {},
   "outputs": [],
   "source": [
    "url = 'https://www.inshorts.com/en/read/business'\n",
    "response = requests.get(url, headers = {'user-agent': 'Codeup DS'})\n",
    "soup = BeautifulSoup(response.text)"
   ]
  },
  {
   "cell_type": "code",
   "execution_count": 188,
   "id": "12589da3",
   "metadata": {},
   "outputs": [
    {
     "data": {
      "text/plain": [
       "25"
      ]
     },
     "execution_count": 188,
     "metadata": {},
     "output_type": "execute_result"
    }
   ],
   "source": [
    "cards = soup.select('.news-card')\n",
    "len(cards)"
   ]
  },
  {
   "cell_type": "code",
   "execution_count": 189,
   "id": "27c88370",
   "metadata": {
    "scrolled": true
   },
   "outputs": [
    {
     "data": {
      "text/plain": [
       "<div class=\"news-card z-depth-1\" itemscope=\"\" itemtype=\"http://schema.org/NewsArticle\">\n",
       "<span content=\"\" itemid=\"https://inshorts.com/en/news/rbi-cancels-licence-of-mahabased-independence-cooperative-bank-1643895020128\" itemprop=\"mainEntityOfPage\" itemscope=\"\" itemtype=\"https://schema.org/WebPage\"></span>\n",
       "<span itemprop=\"author\" itemscope=\"itemscope\" itemtype=\"https://schema.org/Person\">\n",
       "<span content=\"Shalini Ojha\" itemprop=\"name\"></span>\n",
       "</span>\n",
       "<span content=\"RBI cancels licence of Maha-based Independence Co-operative Bank\" itemprop=\"description\"></span>\n",
       "<span itemprop=\"image\" itemscope=\"\" itemtype=\"https://schema.org/ImageObject\">\n",
       "<meta content=\"https://static.inshorts.com/inshorts/images/v1/variants/jpg/m/2022/02_feb/3_thu/img_1643894076621_61.jpg?\" itemprop=\"url\"/>\n",
       "<meta content=\"864\" itemprop=\"width\"/>\n",
       "<meta content=\"483\" itemprop=\"height\"/>\n",
       "</span>\n",
       "<span itemprop=\"publisher\" itemscope=\"itemscope\" itemtype=\"https://schema.org/Organization\">\n",
       "<span content=\"https://inshorts.com/\" itemprop=\"url\"></span>\n",
       "<span content=\"Inshorts\" itemprop=\"name\"></span>\n",
       "<span itemprop=\"logo\" itemscope=\"\" itemtype=\"https://schema.org/ImageObject\">\n",
       "<span content=\"https://assets.inshorts.com/inshorts/images/v1/variants/jpg/m/2018/11_nov/21_wed/img_1542823931298_497.jpg\" itemprop=\"url\"></span>\n",
       "<meta content=\"400\" itemprop=\"width\"/>\n",
       "<meta content=\"60\" itemprop=\"height\"/>\n",
       "</span>\n",
       "</span>\n",
       "<div class=\"news-card-image\" style=\"background-image: url('https://static.inshorts.com/inshorts/images/v1/variants/jpg/m/2022/02_feb/3_thu/img_1643894076621_61.jpg?')\">\n",
       "</div>\n",
       "<div class=\"news-card-title news-right-box\">\n",
       "<a class=\"clickable\" href=\"/en/news/rbi-cancels-licence-of-mahabased-independence-cooperative-bank-1643895020128\" onclick=\"track_GA_Mixpanel({'hitType': 'event', 'category': 'TitleOfNews', 'action': 'clicked', 'label': 'RBI%20cancels%20licence%20of%20Maha-based%20Independence%20Co-operative%20Bank)' });\" style=\"color:#44444d!important\">\n",
       "<span itemprop=\"headline\">RBI cancels licence of Maha-based Independence Co-operative Bank</span>\n",
       "</a>\n",
       "<div class=\"news-card-author-time news-card-author-time-in-title\">\n",
       "<a href=\"/prev/en/news/rbi-cancels-licence-of-mahabased-independence-cooperative-bank-1643895020128\"><span class=\"short\">short</span></a> by <span class=\"author\">Shalini Ojha</span> / \n",
       "      <span class=\"time\" content=\"2022-02-03T13:30:20.000Z\" itemprop=\"datePublished\">07:00 pm</span> on <span clas=\"date\">03 Feb 2022,Thursday</span>\n",
       "</div>\n",
       "</div>\n",
       "<div class=\"news-card-content news-right-box\">\n",
       "<div itemprop=\"articleBody\">RBI has cancelled licence of Maharashtra-based Independence Co-operative Bank, citing inadequate capital. It will cease to carry on banking operations from the close of business on February 3. In the present situation, the bank won't be able to pay its depositors in full, RBI said. It added that the bank didn't comply with multiple sections of Banking Regulation Act, 1949. </div>\n",
       "<div class=\"news-card-author-time news-card-author-time-in-content\">\n",
       "<a href=\"/prev/en/news/rbi-cancels-licence-of-mahabased-independence-cooperative-bank-1643895020128\"><span class=\"short\">short</span></a> by <span class=\"author\">Shalini Ojha</span> / \n",
       "      <span class=\"time\" content=\"2022-02-03T13:30:20.000Z\" itemprop=\"dateModified\">07:00 pm</span> on <span class=\"date\">03 Feb</span>\n",
       "</div>\n",
       "</div>\n",
       "<div class=\"news-card-footer news-right-box\">\n",
       "<div class=\"read-more\">read more at <a class=\"source\" href=\"https://www.moneycontrol.com/news/business/rbi-cancels-licence-of-maharashtra-based-independence-co-operative-bank-8034241.html/amp?utm_campaign=fullarticle&amp;utm_medium=referral&amp;utm_source=inshorts \" onclick=\"track_GA_Mixpanel({'hitType': 'event', 'category': 'ReadMore', 'action': 'clicked', 'label': 'Moneycontrol' });\" target=\"_blank\">Moneycontrol</a></div>\n",
       "</div>\n",
       "</div>"
      ]
     },
     "execution_count": 189,
     "metadata": {},
     "output_type": "execute_result"
    }
   ],
   "source": [
    "card = cards[0]\n",
    "card"
   ]
  },
  {
   "cell_type": "code",
   "execution_count": 190,
   "id": "8336a127",
   "metadata": {},
   "outputs": [
    {
     "data": {
      "text/plain": [
       "'RBI cancels licence of Maha-based Independence Co-operative Bank'"
      ]
     },
     "execution_count": 190,
     "metadata": {},
     "output_type": "execute_result"
    }
   ],
   "source": [
    "# headline\n",
    "headline = card.find('span', itemprop = 'headline').text\n",
    "\n",
    "headline"
   ]
  },
  {
   "cell_type": "code",
   "execution_count": 191,
   "id": "0eb46f31",
   "metadata": {},
   "outputs": [
    {
     "data": {
      "text/plain": [
       "'Shalini Ojha'"
      ]
     },
     "execution_count": 191,
     "metadata": {},
     "output_type": "execute_result"
    }
   ],
   "source": [
    "# author\n",
    "author = card.find('span', class_ = 'author').text\n",
    "\n",
    "author"
   ]
  },
  {
   "cell_type": "code",
   "execution_count": 196,
   "id": "b23fd8be",
   "metadata": {},
   "outputs": [
    {
     "data": {
      "text/plain": [
       "\"RBI has cancelled licence of Maharashtra-based Independence Co-operative Bank, citing inadequate capital. It will cease to carry on banking operations from the close of business on February 3. In the present situation, the bank won't be able to pay its depositors in full, RBI said. It added that the bank didn't comply with multiple sections of Banking Regulation Act, 1949. \""
      ]
     },
     "execution_count": 196,
     "metadata": {},
     "output_type": "execute_result"
    }
   ],
   "source": [
    "# content\n",
    "content = card.find('div', itemprop = 'articleBody').text\n",
    "\n",
    "content"
   ]
  },
  {
   "cell_type": "code",
   "execution_count": null,
   "id": "30564bef",
   "metadata": {},
   "outputs": [],
   "source": []
  },
  {
   "cell_type": "code",
   "execution_count": null,
   "id": "63b52354",
   "metadata": {},
   "outputs": [],
   "source": []
  },
  {
   "cell_type": "code",
   "execution_count": null,
   "id": "e317353b",
   "metadata": {},
   "outputs": [],
   "source": []
  },
  {
   "cell_type": "code",
   "execution_count": null,
   "id": "9ae11d83",
   "metadata": {},
   "outputs": [],
   "source": []
  },
  {
   "cell_type": "code",
   "execution_count": null,
   "id": "5c386271",
   "metadata": {},
   "outputs": [],
   "source": []
  },
  {
   "cell_type": "markdown",
   "id": "66f0ea36",
   "metadata": {},
   "source": [
    "3. Bonus: cache the data\n",
    "\n",
    "Write your code such that the acquired data is saved locally in some form or fashion. Your functions that retrieve the data should prefer to read the local data instead of having to make all the requests everytime the function is called. Include a boolean flag in the functions to allow the data to be acquired \"fresh\" from the actual sources (re-writing your local cache)."
   ]
  },
  {
   "cell_type": "code",
   "execution_count": null,
   "id": "d9954a01",
   "metadata": {},
   "outputs": [],
   "source": []
  },
  {
   "cell_type": "code",
   "execution_count": null,
   "id": "8c56e483",
   "metadata": {},
   "outputs": [],
   "source": []
  },
  {
   "cell_type": "code",
   "execution_count": null,
   "id": "e402656f",
   "metadata": {},
   "outputs": [],
   "source": []
  }
 ],
 "metadata": {
  "kernelspec": {
   "display_name": "Python 3 (ipykernel)",
   "language": "python",
   "name": "python3"
  },
  "language_info": {
   "codemirror_mode": {
    "name": "ipython",
    "version": 3
   },
   "file_extension": ".py",
   "mimetype": "text/x-python",
   "name": "python",
   "nbconvert_exporter": "python",
   "pygments_lexer": "ipython3",
   "version": "3.7.3"
  }
 },
 "nbformat": 4,
 "nbformat_minor": 5
}
