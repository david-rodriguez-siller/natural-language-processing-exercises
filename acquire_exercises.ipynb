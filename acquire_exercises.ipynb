{
 "cells": [
  {
   "cell_type": "markdown",
   "id": "173f4fa5",
   "metadata": {},
   "source": [
    "### Data Acquisition Exercises\n",
    "\n",
    "By the end of this exercise, you should have a file named `acquire.py` that contains the specified functions. If you wish, you may break your work into separate files for each website, but the end function should be present in `acquire.py`."
   ]
  },
  {
   "cell_type": "code",
   "execution_count": 167,
   "id": "395827a3",
   "metadata": {},
   "outputs": [],
   "source": [
    "import requestsimport pandas as pd\n",
    "import re\n",
    "from bs4 import BeautifulSoup\n",
    "from time import strftime"
   ]
  },
  {
   "cell_type": "markdown",
   "id": "8a796e69",
   "metadata": {},
   "source": [
    "1. Codeup Blog Articles\n",
    "\n",
    "    Visit Codeup's Blog and record the urls for at least 5 distinct blog posts. For each post, you should scrape at least the post's title and content.\n",
    "\n",
    "    Encapsulate your work in a function named get_blog_articles that will return a list of dictionaries, with each dictionary representing one article. The shape of each dictionary should look like this:\n",
    "\n",
    "---\n",
    "\n",
    "    'title': 'the title of the article',\n",
    "    'content': 'the full text content of the article'\n",
    "\n",
    "---\n",
    "\n",
    "Plus any additional properties you think might be helpful.\n",
    "\n",
    "**Bonus:** Scrape the text of all the articles linked on codeup's blog page."
   ]
  },
  {
   "cell_type": "markdown",
   "id": "5e77ddc3",
   "metadata": {},
   "source": [
    "**https://codeup.com/codeup-news/codeup-start-dates-for-march-2022/**\n",
    "    \n",
    "**https://codeup.com/codeup-news/vet-tec-funding-dallas/**\n",
    "    \n",
    "**https://codeup.com/codeup-news/dallas-campus-re-opens-with-new-grant-partner/**\n",
    "    \n",
    "**https://codeup.com/dallas-newsletter/codeup-dallas-open-house/**\n",
    "    \n",
    "**https://codeup.com/codeup-news/codeups-placement-team-continues-setting-records/**"
   ]
  },
  {
   "cell_type": "code",
   "execution_count": 25,
   "id": "60548c32",
   "metadata": {},
   "outputs": [],
   "source": [
    "urls = ['https://codeup.com/codeup-news/codeup-start-dates-for-march-2022/', \n",
    "        'https://codeup.com/codeup-news/vet-tec-funding-dallas/', \n",
    "        'https://codeup.com/codeup-news/dallas-campus-re-opens-with-new-grant-partner/', \n",
    "        'https://codeup.com/dallas-newsletter/codeup-dallas-open-house/', \n",
    "        'https://codeup.com/codeup-news/codeups-placement-team-continues-setting-records/']"
   ]
  },
  {
   "cell_type": "code",
   "execution_count": 74,
   "id": "097211ca",
   "metadata": {
    "scrolled": true
   },
   "outputs": [],
   "source": [
    "response_1 = requests.get(urls[0], headers={'user-agent': 'Codeup DS Hopper'})\n",
    "response_2 = requests.get(urls[1], headers={'user-agent': 'Codeup DS Hopper'})\n",
    "response_3 = requests.get(urls[2], headers={'user-agent': 'Codeup DS Hopper'})\n",
    "response_4 = requests.get(urls[3], headers={'user-agent': 'Codeup DS Hopper'})\n",
    "response_5 = requests.get(urls[4], headers={'user-agent': 'Codeup DS Hopper'})\n",
    "\n",
    "soup_1 = BeautifulSoup(response_1.text)\n",
    "soup_2 = BeautifulSoup(response_2.text)\n",
    "soup_3 = BeautifulSoup(response_3.text)\n",
    "soup_4 = BeautifulSoup(response_4.text)\n",
    "soup_5 = BeautifulSoup(response_5.text)\n",
    "\n",
    "soup_list = [soup_1, soup_2, soup_3, soup_4, soup_5]"
   ]
  },
  {
   "cell_type": "code",
   "execution_count": 177,
   "id": "b46df674",
   "metadata": {},
   "outputs": [
    {
     "name": "stdout",
     "output_type": "stream",
     "text": [
      "Codeup Start Dates for March 2022\n",
      "VET TEC Funding Now Available For Dallas Veterans\n",
      "Dallas Campus Re-opens With New Grant Partner\n",
      "Codeup Dallas Open House\n",
      "Codeup’s Placement Team Continues Setting Records\n"
     ]
    }
   ],
   "source": [
    "for soup in soup_list:\n",
    "    print(soup.select_one('.entry-title').text)"
   ]
  },
  {
   "cell_type": "code",
   "execution_count": 116,
   "id": "d1f97c3e",
   "metadata": {},
   "outputs": [],
   "source": [
    "content = []\n",
    "n = 0\n",
    "for soup in soup_list:\n",
    "    content.insert(n, re.sub(r'\\s{2}', '', soup.find('div', id = 'main-content').text.strip()))\n",
    "    n = n + 1"
   ]
  },
  {
   "cell_type": "code",
   "execution_count": 118,
   "id": "404b3fc6",
   "metadata": {
    "scrolled": false
   },
   "outputs": [
    {
     "data": {
      "text/plain": [
       "'Codeup Start Dates for March 2022\\nJan 26, 2022 | Codeup News\\nAs we approach the end of January we wanted to look forward to our next start dates for all of our current programs.\\nFull Stack Web Development – 3/7/22\\nFull Stack Web Development is the first program we built and also our most popular. You’ve asked and we listened! Our next Web Development cohort will start on 3/7/2022 and is ENTIRELY VIRTUAL! THESE SEATS WILL GO FAST!\\nAs one of the most in-demand jobs in the country, software and web development is the tech career with the newest jobs. In the U.S., there’s:1.5 million developer jobs*\\n250,000 of them remain open\\na high growth rate of 13%*Data Science – 3/22/22\\nOur first new Data Science class of 2022 starts Monday 3/22/2022 at our downtown campus at the Vogue building.\\nWhy consider pivoting careers to Data Science?#1 job in America from 2016-2020 (Glassdoor*)\\n650% increase in data science positions since 2012\\nNearly 12 million new jobs between 2019 and 2029\\n31% ten-year growth rateThe supply of data scientists remains painfully low compared to the outrageous demand. YOU can help close the gap while launching a fulfilling, secure, and high-paying career – one of the very best in the country!\\nEmployers are scrambling to find talent due to a lack of qualified applicants. YOU can help fill the gap while future-proofing your skillset. Have the flexibility, security, and salary that you’ve always wanted in a career.\\nAre you ready to launch your career in tech? Apply today so our admissions team can save your seat and get your name on the list. Our application can be found here.Want to experience Codeup early? Join one of our workshops to get an intro to a specific coding language, learn about our financing options, or maybe even code yourself a resume! All of our events can be located here.We can’t wait to help you launch your career in tech!\\nOur ProgramsFull Stack Web Development\\nData Science\\nSystems EngineeringLatest Blog Articles\\nCodeup Start Dates for March 2022\\nVET TEC Funding Now Available For Dallas Veterans\\nDallas Campus Re-opens With New Grant Partner\\nCodeup Dallas Open House\\nCodeup’s Placement Team Continues Setting Records'"
      ]
     },
     "execution_count": 118,
     "metadata": {},
     "output_type": "execute_result"
    }
   ],
   "source": [
    "content[0]"
   ]
  },
  {
   "cell_type": "code",
   "execution_count": 172,
   "id": "1c7edcb6",
   "metadata": {},
   "outputs": [
    {
     "data": {
      "text/plain": [
       "'Codeup’s Placement Team Continues Setting Records'"
      ]
     },
     "execution_count": 172,
     "metadata": {},
     "output_type": "execute_result"
    }
   ],
   "source": [
    "title = soup.select_one('.entry-title').text\n",
    "title"
   ]
  },
  {
   "cell_type": "code",
   "execution_count": 170,
   "id": "1cbc2bee",
   "metadata": {},
   "outputs": [
    {
     "data": {
      "text/plain": [
       "'Nov 19, 2021'"
      ]
     },
     "execution_count": 170,
     "metadata": {},
     "output_type": "execute_result"
    }
   ],
   "source": [
    "published = soup.select_one('.published').text\n",
    "published"
   ]
  },
  {
   "cell_type": "code",
   "execution_count": 173,
   "id": "13833b9a",
   "metadata": {
    "scrolled": true
   },
   "outputs": [
    {
     "data": {
      "text/plain": [
       "'\\n\\n\\n\\n\\n\\nOur Placement Team is simply defined as a group that manages relationships with our employer partners and our graduating students to help get our graduating students hired. Last quarter the Placement Team helped 48 students get hired to life-changing careers in tech. Last month our Placement Team has already placed 40 students with top tech companies. For that, we want to send a huge thank you to both our Placement Team and our Employer Partners who have done a tremendous job of helping Codeup empower life change for these students.\\nWho exactly got hired and where? Check out the list below!\\n\\n\\nRobert Sledge – hired at Accenture Federal as a Software Engineering Associate\\nMatthew Walker – hired at Accenture Federal as a Software Engineering Associate\\nMatthew Dalton – hired at Oracle as an APEX Developer\\nDustin Martinez – hired at Accenture Federal as a Software Engineering Associate\\nKelvon Pointer-Patterson – hired at Accenture Federal as a Java Developer Associate\\nKenyon Luce – hired at Accenture Federal as a Java Developer Associate\\nJuan Garcia – hired at Accenture Federal as a Software Engineering Associate\\nAlexander Hernando-Avitia – hired at Accenture Federal as a Software Engineering Associate\\nJohn Pierce – hired at Accenture Federal as a Software Engineering Associate\\nDavid Wagnon – hired at Social Solutions as a Associate Software Engineer\\nEvan Williams – hired at Social Solutions as a Associate Software Engineer\\nRose Barcus – hired at Accenture Federal as a Software Engineering Associate\\nDavid Culver – hired at Accenture Federal as a Software Engineering Associate\\nAustin Whitley – hired at Accenture Federal as a Software Engineering Associate\\nAnna Vu – hired at Sparrow Partners as a Data Scientist\\nRobert Murphy – hired at Lone Star Analysis as a Analysis Professional\\nCindy Villanueva – hired at Colorado Community Managed Care Network as a Data Engineer\\nMitchell Higue – hired at USAA as a Full Stack Developer Jr.\\n\\n\\n\\n\\nCurious what it’s like to hire a Codeup graduate? Check out our hiring process here.\\nWant to land a life changing career like these students did? Check our list of programs offered here.\\n\\n\\n\\n \\n\\n'"
      ]
     },
     "execution_count": 173,
     "metadata": {},
     "output_type": "execute_result"
    }
   ],
   "source": [
    "content = soup.select_one('.entry-content').text\n",
    "content"
   ]
  },
  {
   "cell_type": "code",
   "execution_count": 199,
   "id": "76cf8f9b",
   "metadata": {},
   "outputs": [],
   "source": [
    "def get_front_page_links():\n",
    "    \"\"\"\n",
    "    Function to acquire blog posts from the Codeup blog and return a list of urls.\n",
    "    \"\"\"\n",
    "    response = requests.get('https://codeup.com/blog/', headers = {'user-agent': 'Codeup DS Hopper'})\n",
    "    soup = BeautifulSoup(response.text)\n",
    "    links = [link.attrs['href'] for link in soup.select('.more-link')]\n",
    "\n",
    "    return links"
   ]
  },
  {
   "cell_type": "code",
   "execution_count": 201,
   "id": "90164d00",
   "metadata": {},
   "outputs": [],
   "source": [
    "def parse_codeup_blog_article(url):\n",
    "    \"\"\"\n",
    "    Function to scrap information from a url and return a dictionary.\n",
    "    \"\"\"\n",
    "    response = requests.get(url, headers = {'user-agent': 'Codeup DS Hopper'})\n",
    "    soup = BeautifulSoup(response.text)\n",
    "    return {\n",
    "        'title': soup.select_one('.entry-title').text,\n",
    "        'published': soup.select_one('.published').text,\n",
    "        'content': soup.select_one('.entry-content').text.strip(),\n",
    "            }"
   ]
  },
  {
   "cell_type": "code",
   "execution_count": 209,
   "id": "ab427b2d",
   "metadata": {
    "scrolled": true
   },
   "outputs": [],
   "source": [
    "def get_blog_articles():\n",
    "    \"\"\"\n",
    "    Function to return dataframe where each row represents a blog post.\n",
    "    \"\"\"\n",
    "    links = get_front_page_links()\n",
    "    df = pd.DataFrame([parse_codeup_blog_article(link) for link in links])\n",
    "    \n",
    "    return df"
   ]
  },
  {
   "cell_type": "code",
   "execution_count": 204,
   "id": "69726f24",
   "metadata": {
    "scrolled": false
   },
   "outputs": [
    {
     "data": {
      "text/html": [
       "<div>\n",
       "<style scoped>\n",
       "    .dataframe tbody tr th:only-of-type {\n",
       "        vertical-align: middle;\n",
       "    }\n",
       "\n",
       "    .dataframe tbody tr th {\n",
       "        vertical-align: top;\n",
       "    }\n",
       "\n",
       "    .dataframe thead th {\n",
       "        text-align: right;\n",
       "    }\n",
       "</style>\n",
       "<table border=\"1\" class=\"dataframe\">\n",
       "  <thead>\n",
       "    <tr style=\"text-align: right;\">\n",
       "      <th></th>\n",
       "      <th>title</th>\n",
       "      <th>published</th>\n",
       "      <th>content</th>\n",
       "    </tr>\n",
       "  </thead>\n",
       "  <tbody>\n",
       "    <tr>\n",
       "      <th>0</th>\n",
       "      <td>Codeup Dallas Open House</td>\n",
       "      <td>Nov 30, 2021</td>\n",
       "      <td>Come join us for the re-opening of our Dallas ...</td>\n",
       "    </tr>\n",
       "    <tr>\n",
       "      <th>1</th>\n",
       "      <td>Codeup’s Placement Team Continues Setting Records</td>\n",
       "      <td>Nov 19, 2021</td>\n",
       "      <td>Our Placement Team is simply defined as a grou...</td>\n",
       "    </tr>\n",
       "    <tr>\n",
       "      <th>2</th>\n",
       "      <td>IT Certifications 101: Why They Matter, and Wh...</td>\n",
       "      <td>Nov 18, 2021</td>\n",
       "      <td>AWS, Google, Azure, Red Hat, CompTIA…these are...</td>\n",
       "    </tr>\n",
       "    <tr>\n",
       "      <th>3</th>\n",
       "      <td>A rise in cyber attacks means opportunities fo...</td>\n",
       "      <td>Nov 17, 2021</td>\n",
       "      <td>In the last few months, the US has experienced...</td>\n",
       "    </tr>\n",
       "    <tr>\n",
       "      <th>4</th>\n",
       "      <td>Use your GI Bill® benefits to Land a Job in Tech</td>\n",
       "      <td>Nov 4, 2021</td>\n",
       "      <td>As the end of military service gets closer, ma...</td>\n",
       "    </tr>\n",
       "    <tr>\n",
       "      <th>5</th>\n",
       "      <td>Which program is right for me: Cyber Security ...</td>\n",
       "      <td>Oct 28, 2021</td>\n",
       "      <td>What IT Career should I choose?\\nIf you’re thi...</td>\n",
       "    </tr>\n",
       "    <tr>\n",
       "      <th>6</th>\n",
       "      <td>What the Heck is System Engineering?</td>\n",
       "      <td>Oct 21, 2021</td>\n",
       "      <td>Codeup offers a 13-week training program: Syst...</td>\n",
       "    </tr>\n",
       "    <tr>\n",
       "      <th>7</th>\n",
       "      <td>From Speech Pathology to Business Intelligence</td>\n",
       "      <td>Oct 18, 2021</td>\n",
       "      <td>By: Alicia Gonzalez\\nBefore Codeup, I was a ho...</td>\n",
       "    </tr>\n",
       "    <tr>\n",
       "      <th>8</th>\n",
       "      <td>Boris – Behind the Billboards</td>\n",
       "      <td>Oct 3, 2021</td>\n",
       "      <td></td>\n",
       "    </tr>\n",
       "    <tr>\n",
       "      <th>9</th>\n",
       "      <td>Is Codeup the Best Bootcamp in San Antonio…or ...</td>\n",
       "      <td>Sep 16, 2021</td>\n",
       "      <td>Looking for the best data science bootcamp in ...</td>\n",
       "    </tr>\n",
       "    <tr>\n",
       "      <th>10</th>\n",
       "      <td>Codeup Launches First Podcast: Hire Tech</td>\n",
       "      <td>Aug 25, 2021</td>\n",
       "      <td>Any podcast enthusiasts out there? We are plea...</td>\n",
       "    </tr>\n",
       "    <tr>\n",
       "      <th>11</th>\n",
       "      <td>Why Should I Become a System Administrator?</td>\n",
       "      <td>Aug 23, 2021</td>\n",
       "      <td>With so many tech careers in demand, why choos...</td>\n",
       "    </tr>\n",
       "    <tr>\n",
       "      <th>12</th>\n",
       "      <td>Announcing our Candidacy for Accreditation!</td>\n",
       "      <td>Jun 30, 2021</td>\n",
       "      <td>Did you know that even though we’re an indepen...</td>\n",
       "    </tr>\n",
       "    <tr>\n",
       "      <th>13</th>\n",
       "      <td>Codeup Takes Over More of the Historic Vogue B...</td>\n",
       "      <td>Jun 21, 2021</td>\n",
       "      <td>Codeup is moving into another floor of our His...</td>\n",
       "    </tr>\n",
       "    <tr>\n",
       "      <th>14</th>\n",
       "      <td>Inclusion at Codeup During Pride Month (and Al...</td>\n",
       "      <td>Jun 4, 2021</td>\n",
       "      <td>Happy Pride Month! Pride Month is a dedicated ...</td>\n",
       "    </tr>\n",
       "  </tbody>\n",
       "</table>\n",
       "</div>"
      ],
      "text/plain": [
       "                                                title     published  \\\n",
       "0                            Codeup Dallas Open House  Nov 30, 2021   \n",
       "1   Codeup’s Placement Team Continues Setting Records  Nov 19, 2021   \n",
       "2   IT Certifications 101: Why They Matter, and Wh...  Nov 18, 2021   \n",
       "3   A rise in cyber attacks means opportunities fo...  Nov 17, 2021   \n",
       "4    Use your GI Bill® benefits to Land a Job in Tech   Nov 4, 2021   \n",
       "5   Which program is right for me: Cyber Security ...  Oct 28, 2021   \n",
       "6                What the Heck is System Engineering?  Oct 21, 2021   \n",
       "7      From Speech Pathology to Business Intelligence  Oct 18, 2021   \n",
       "8                       Boris – Behind the Billboards   Oct 3, 2021   \n",
       "9   Is Codeup the Best Bootcamp in San Antonio…or ...  Sep 16, 2021   \n",
       "10           Codeup Launches First Podcast: Hire Tech  Aug 25, 2021   \n",
       "11        Why Should I Become a System Administrator?  Aug 23, 2021   \n",
       "12        Announcing our Candidacy for Accreditation!  Jun 30, 2021   \n",
       "13  Codeup Takes Over More of the Historic Vogue B...  Jun 21, 2021   \n",
       "14  Inclusion at Codeup During Pride Month (and Al...   Jun 4, 2021   \n",
       "\n",
       "                                              content  \n",
       "0   Come join us for the re-opening of our Dallas ...  \n",
       "1   Our Placement Team is simply defined as a grou...  \n",
       "2   AWS, Google, Azure, Red Hat, CompTIA…these are...  \n",
       "3   In the last few months, the US has experienced...  \n",
       "4   As the end of military service gets closer, ma...  \n",
       "5   What IT Career should I choose?\\nIf you’re thi...  \n",
       "6   Codeup offers a 13-week training program: Syst...  \n",
       "7   By: Alicia Gonzalez\\nBefore Codeup, I was a ho...  \n",
       "8                                                      \n",
       "9   Looking for the best data science bootcamp in ...  \n",
       "10  Any podcast enthusiasts out there? We are plea...  \n",
       "11  With so many tech careers in demand, why choos...  \n",
       "12  Did you know that even though we’re an indepen...  \n",
       "13  Codeup is moving into another floor of our His...  \n",
       "14  Happy Pride Month! Pride Month is a dedicated ...  "
      ]
     },
     "execution_count": 204,
     "metadata": {},
     "output_type": "execute_result"
    }
   ],
   "source": [
    "get_blog_articles()"
   ]
  },
  {
   "cell_type": "code",
   "execution_count": 205,
   "id": "0357b040",
   "metadata": {},
   "outputs": [],
   "source": [
    "# Save the blogs as json:\n",
    "\n",
    "today = strftime('%Y-%m-%d')\n",
    "get_blog_articles().to_json(f'codeup_blog_{today}.json')"
   ]
  },
  {
   "cell_type": "markdown",
   "id": "dcef2632",
   "metadata": {},
   "source": [
    "2. News Articles\n",
    "\n",
    "    We will now be scraping text data from inshorts, a website that provides a brief overview of many different topics.\n",
    "\n",
    "    Write a function that scrapes the news articles for the following topics:\n",
    "\n",
    "     - Business\n",
    "     - Sports\n",
    "     - Technology\n",
    "     - Entertainment\n",
    "\n",
    "    The end product of this should be a function named get_news_articles that returns a list of dictionaries, where each dictionary has this shape:\n",
    "\n",
    "---\n",
    "\n",
    "    'title': 'The article title',\n",
    "    'content': 'The article content',\n",
    "    'category': 'business' # for example\n",
    "\n",
    "---\n",
    "\n",
    "Hints:\n",
    "\n",
    " - Start by inspecting the website in your browser. Figure out which elements will be useful.\n",
    " - Start by creating a function that handles a single article and produces a dictionary like the one above.\n",
    " - Next create a function that will find all the articles on a single page and call the function you created in the last step for every article on the page.\n",
    " - Now create a function that will use the previous two functions to scrape the articles from all the pages that you need, and do any additional processing that needs to be done.\n",
    "\n"
   ]
  },
  {
   "cell_type": "code",
   "execution_count": 181,
   "id": "7850519d",
   "metadata": {},
   "outputs": [],
   "source": [
    "url = 'https://www.inshorts.com/en/read/business'\n",
    "response = requests.get(url, headers = {'user-agent': 'Codeup DS'})\n",
    "soup = BeautifulSoup(response.text)"
   ]
  },
  {
   "cell_type": "code",
   "execution_count": 188,
   "id": "99ca9cbd",
   "metadata": {},
   "outputs": [
    {
     "data": {
      "text/plain": [
       "25"
      ]
     },
     "execution_count": 188,
     "metadata": {},
     "output_type": "execute_result"
    }
   ],
   "source": [
    "cards = soup.select('.news-card')\n",
    "len(cards)"
   ]
  },
  {
   "cell_type": "code",
   "execution_count": 189,
   "id": "bc69167a",
   "metadata": {
    "scrolled": true
   },
   "outputs": [
    {
     "data": {
      "text/plain": [
       "<div class=\"news-card z-depth-1\" itemscope=\"\" itemtype=\"http://schema.org/NewsArticle\">\n",
       "<span content=\"\" itemid=\"https://inshorts.com/en/news/rbi-cancels-licence-of-mahabased-independence-cooperative-bank-1643895020128\" itemprop=\"mainEntityOfPage\" itemscope=\"\" itemtype=\"https://schema.org/WebPage\"></span>\n",
       "<span itemprop=\"author\" itemscope=\"itemscope\" itemtype=\"https://schema.org/Person\">\n",
       "<span content=\"Shalini Ojha\" itemprop=\"name\"></span>\n",
       "</span>\n",
       "<span content=\"RBI cancels licence of Maha-based Independence Co-operative Bank\" itemprop=\"description\"></span>\n",
       "<span itemprop=\"image\" itemscope=\"\" itemtype=\"https://schema.org/ImageObject\">\n",
       "<meta content=\"https://static.inshorts.com/inshorts/images/v1/variants/jpg/m/2022/02_feb/3_thu/img_1643894076621_61.jpg?\" itemprop=\"url\"/>\n",
       "<meta content=\"864\" itemprop=\"width\"/>\n",
       "<meta content=\"483\" itemprop=\"height\"/>\n",
       "</span>\n",
       "<span itemprop=\"publisher\" itemscope=\"itemscope\" itemtype=\"https://schema.org/Organization\">\n",
       "<span content=\"https://inshorts.com/\" itemprop=\"url\"></span>\n",
       "<span content=\"Inshorts\" itemprop=\"name\"></span>\n",
       "<span itemprop=\"logo\" itemscope=\"\" itemtype=\"https://schema.org/ImageObject\">\n",
       "<span content=\"https://assets.inshorts.com/inshorts/images/v1/variants/jpg/m/2018/11_nov/21_wed/img_1542823931298_497.jpg\" itemprop=\"url\"></span>\n",
       "<meta content=\"400\" itemprop=\"width\"/>\n",
       "<meta content=\"60\" itemprop=\"height\"/>\n",
       "</span>\n",
       "</span>\n",
       "<div class=\"news-card-image\" style=\"background-image: url('https://static.inshorts.com/inshorts/images/v1/variants/jpg/m/2022/02_feb/3_thu/img_1643894076621_61.jpg?')\">\n",
       "</div>\n",
       "<div class=\"news-card-title news-right-box\">\n",
       "<a class=\"clickable\" href=\"/en/news/rbi-cancels-licence-of-mahabased-independence-cooperative-bank-1643895020128\" onclick=\"track_GA_Mixpanel({'hitType': 'event', 'category': 'TitleOfNews', 'action': 'clicked', 'label': 'RBI%20cancels%20licence%20of%20Maha-based%20Independence%20Co-operative%20Bank)' });\" style=\"color:#44444d!important\">\n",
       "<span itemprop=\"headline\">RBI cancels licence of Maha-based Independence Co-operative Bank</span>\n",
       "</a>\n",
       "<div class=\"news-card-author-time news-card-author-time-in-title\">\n",
       "<a href=\"/prev/en/news/rbi-cancels-licence-of-mahabased-independence-cooperative-bank-1643895020128\"><span class=\"short\">short</span></a> by <span class=\"author\">Shalini Ojha</span> / \n",
       "      <span class=\"time\" content=\"2022-02-03T13:30:20.000Z\" itemprop=\"datePublished\">07:00 pm</span> on <span clas=\"date\">03 Feb 2022,Thursday</span>\n",
       "</div>\n",
       "</div>\n",
       "<div class=\"news-card-content news-right-box\">\n",
       "<div itemprop=\"articleBody\">RBI has cancelled licence of Maharashtra-based Independence Co-operative Bank, citing inadequate capital. It will cease to carry on banking operations from the close of business on February 3. In the present situation, the bank won't be able to pay its depositors in full, RBI said. It added that the bank didn't comply with multiple sections of Banking Regulation Act, 1949. </div>\n",
       "<div class=\"news-card-author-time news-card-author-time-in-content\">\n",
       "<a href=\"/prev/en/news/rbi-cancels-licence-of-mahabased-independence-cooperative-bank-1643895020128\"><span class=\"short\">short</span></a> by <span class=\"author\">Shalini Ojha</span> / \n",
       "      <span class=\"time\" content=\"2022-02-03T13:30:20.000Z\" itemprop=\"dateModified\">07:00 pm</span> on <span class=\"date\">03 Feb</span>\n",
       "</div>\n",
       "</div>\n",
       "<div class=\"news-card-footer news-right-box\">\n",
       "<div class=\"read-more\">read more at <a class=\"source\" href=\"https://www.moneycontrol.com/news/business/rbi-cancels-licence-of-maharashtra-based-independence-co-operative-bank-8034241.html/amp?utm_campaign=fullarticle&amp;utm_medium=referral&amp;utm_source=inshorts \" onclick=\"track_GA_Mixpanel({'hitType': 'event', 'category': 'ReadMore', 'action': 'clicked', 'label': 'Moneycontrol' });\" target=\"_blank\">Moneycontrol</a></div>\n",
       "</div>\n",
       "</div>"
      ]
     },
     "execution_count": 189,
     "metadata": {},
     "output_type": "execute_result"
    }
   ],
   "source": [
    "card = cards[0]\n",
    "card"
   ]
  },
  {
   "cell_type": "code",
   "execution_count": 190,
   "id": "a6fbd154",
   "metadata": {},
   "outputs": [
    {
     "data": {
      "text/plain": [
       "'RBI cancels licence of Maha-based Independence Co-operative Bank'"
      ]
     },
     "execution_count": 190,
     "metadata": {},
     "output_type": "execute_result"
    }
   ],
   "source": [
    "# headline\n",
    "headline = card.find('span', itemprop = 'headline').text\n",
    "\n",
    "headline"
   ]
  },
  {
   "cell_type": "code",
   "execution_count": 191,
   "id": "e1f3d17c",
   "metadata": {},
   "outputs": [
    {
     "data": {
      "text/plain": [
       "'Shalini Ojha'"
      ]
     },
     "execution_count": 191,
     "metadata": {},
     "output_type": "execute_result"
    }
   ],
   "source": [
    "# author\n",
    "author = card.find('span', class_ = 'author').text\n",
    "\n",
    "author"
   ]
  },
  {
   "cell_type": "code",
   "execution_count": 196,
   "id": "25ce0b21",
   "metadata": {},
   "outputs": [
    {
     "data": {
      "text/plain": [
       "\"RBI has cancelled licence of Maharashtra-based Independence Co-operative Bank, citing inadequate capital. It will cease to carry on banking operations from the close of business on February 3. In the present situation, the bank won't be able to pay its depositors in full, RBI said. It added that the bank didn't comply with multiple sections of Banking Regulation Act, 1949. \""
      ]
     },
     "execution_count": 196,
     "metadata": {},
     "output_type": "execute_result"
    }
   ],
   "source": [
    "# content\n",
    "content = card.find('div', itemprop = 'articleBody').text\n",
    "\n",
    "content"
   ]
  },
  {
   "cell_type": "code",
   "execution_count": 207,
   "id": "719c5160",
   "metadata": {},
   "outputs": [
    {
     "data": {
      "text/plain": [
       "'03 Feb 2022,Thursday'"
      ]
     },
     "execution_count": 207,
     "metadata": {},
     "output_type": "execute_result"
    }
   ],
   "source": [
    "# date\n",
    "date = card.find('span', clas = 'date').text\n",
    "\n",
    "date"
   ]
  },
  {
   "cell_type": "code",
   "execution_count": 212,
   "id": "206e336b",
   "metadata": {},
   "outputs": [],
   "source": [
    "def parse_news_card(card):\n",
    "    \"\"\"\n",
    "    Function that takes a news card object and returns a dictionary containing the article's\n",
    "    title, author, content and date.\n",
    "    \"\"\"\n",
    "    card_title = card.select_one('.news-card-title')\n",
    "    output = {}\n",
    "    output['title'] = card.find('span', itemprop = 'headline').text\n",
    "    output['author'] = card.find('span', class_ = 'author').text\n",
    "    output['content'] = card.find('div', itemprop = 'articleBody').text\n",
    "    output['date'] = card.find('span', clas ='date').text\n",
    "    \n",
    "    return output"
   ]
  },
  {
   "cell_type": "code",
   "execution_count": 213,
   "id": "93afda02",
   "metadata": {},
   "outputs": [],
   "source": [
    "def parse_inshorts_page(url):\n",
    "    \"\"\"\n",
    "    Function that takes in a url and returns a df in which each row is an article from the\n",
    "    url.\n",
    "    \"\"\"\n",
    "    category = url.split('/')[-1]\n",
    "    response = requests.get(url, headers = {'user-agent': 'Codeup DS'})\n",
    "    soup = BeautifulSoup(response.text)\n",
    "    cards = soup.select('.news-card')\n",
    "    df = pd.DataFrame([parse_news_card(card) for card in cards])\n",
    "    df['category'] = category\n",
    "    \n",
    "    return df"
   ]
  },
  {
   "cell_type": "code",
   "execution_count": 214,
   "id": "00ca87ec",
   "metadata": {},
   "outputs": [],
   "source": [
    "def get_inshorts_articles():\n",
    "    \"\"\"\n",
    "    This function returns a df of a news article from teh business, sports, technology and \n",
    "    entertainment section from the inshorts site.\n",
    "    \"\"\"\n",
    "    url = 'https://inshorts.com/en/read/'\n",
    "    categories = ['business', 'sports', 'technology', 'entertainment']\n",
    "    df = pd.DataFrame()\n",
    "    for cat in categories:\n",
    "        df = pd.concat([df, pd.DataFrame(parse_inshorts_page(url + cat))])\n",
    "    df = df.reset_index(drop = True)\n",
    "    \n",
    "    return df"
   ]
  },
  {
   "cell_type": "code",
   "execution_count": 215,
   "id": "ee5b0109",
   "metadata": {},
   "outputs": [
    {
     "data": {
      "text/html": [
       "<div>\n",
       "<style scoped>\n",
       "    .dataframe tbody tr th:only-of-type {\n",
       "        vertical-align: middle;\n",
       "    }\n",
       "\n",
       "    .dataframe tbody tr th {\n",
       "        vertical-align: top;\n",
       "    }\n",
       "\n",
       "    .dataframe thead th {\n",
       "        text-align: right;\n",
       "    }\n",
       "</style>\n",
       "<table border=\"1\" class=\"dataframe\">\n",
       "  <thead>\n",
       "    <tr style=\"text-align: right;\">\n",
       "      <th></th>\n",
       "      <th>title</th>\n",
       "      <th>author</th>\n",
       "      <th>content</th>\n",
       "      <th>date</th>\n",
       "      <th>category</th>\n",
       "    </tr>\n",
       "  </thead>\n",
       "  <tbody>\n",
       "    <tr>\n",
       "      <th>0</th>\n",
       "      <td>RBI cancels licence of Maha-based Independence...</td>\n",
       "      <td>Shalini Ojha</td>\n",
       "      <td>RBI has cancelled licence of Maharashtra-based...</td>\n",
       "      <td>03 Feb 2022,Thursday</td>\n",
       "      <td>business</td>\n",
       "    </tr>\n",
       "    <tr>\n",
       "      <th>1</th>\n",
       "      <td>Boost to EVs a big step: Windmill Capital</td>\n",
       "      <td>Roshan Gupta</td>\n",
       "      <td>Increased use of EVs in public transport, spec...</td>\n",
       "      <td>03 Feb 2022,Thursday</td>\n",
       "      <td>business</td>\n",
       "    </tr>\n",
       "    <tr>\n",
       "      <th>2</th>\n",
       "      <td>Facebook parent Meta's $230-billion wipeout bi...</td>\n",
       "      <td>Pragya Swastik</td>\n",
       "      <td>Facebook's parent Meta's shares plunged 27% an...</td>\n",
       "      <td>03 Feb 2022,Thursday</td>\n",
       "      <td>business</td>\n",
       "    </tr>\n",
       "    <tr>\n",
       "      <th>3</th>\n",
       "      <td>Tesla co-worker used N-word, threw a hot tool ...</td>\n",
       "      <td>Kiran Khatri</td>\n",
       "      <td>A former Tesla worker has filed a lawsuit agai...</td>\n",
       "      <td>03 Feb 2022,Thursday</td>\n",
       "      <td>business</td>\n",
       "    </tr>\n",
       "    <tr>\n",
       "      <th>4</th>\n",
       "      <td>Facebook's daily active users fall for first t...</td>\n",
       "      <td>Pragya Swastik</td>\n",
       "      <td>Facebook has seen its daily active users (DAUs...</td>\n",
       "      <td>03 Feb 2022,Thursday</td>\n",
       "      <td>business</td>\n",
       "    </tr>\n",
       "    <tr>\n",
       "      <th>...</th>\n",
       "      <td>...</td>\n",
       "      <td>...</td>\n",
       "      <td>...</td>\n",
       "      <td>...</td>\n",
       "      <td>...</td>\n",
       "    </tr>\n",
       "    <tr>\n",
       "      <th>95</th>\n",
       "      <td>I don't care about all that: Jim Sarbh on soci...</td>\n",
       "      <td>Kriti Kambiri</td>\n",
       "      <td>Actor Jim Sarbh, on being asked about craving ...</td>\n",
       "      <td>03 Feb 2022,Thursday</td>\n",
       "      <td>entertainment</td>\n",
       "    </tr>\n",
       "    <tr>\n",
       "      <th>96</th>\n",
       "      <td>Miss cleaning utensils, floor in Bigg Boss hou...</td>\n",
       "      <td>Ria Kapoor</td>\n",
       "      <td>Bigg Boss 15 runner-up Pratik Sehajpal says he...</td>\n",
       "      <td>03 Feb 2022,Thursday</td>\n",
       "      <td>entertainment</td>\n",
       "    </tr>\n",
       "    <tr>\n",
       "      <th>97</th>\n",
       "      <td>Greatest blessing: Riteish wishes Genelia on 1...</td>\n",
       "      <td>Mahima Kharbanda</td>\n",
       "      <td>Actor Riteish Deshmukh on Thursday marked his ...</td>\n",
       "      <td>03 Feb 2022,Thursday</td>\n",
       "      <td>entertainment</td>\n",
       "    </tr>\n",
       "    <tr>\n",
       "      <th>98</th>\n",
       "      <td>Javed confirms Farhan-Shibani's wedding, will ...</td>\n",
       "      <td>Kriti Kambiri</td>\n",
       "      <td>Lyricist Javed Akhtar has confirmed actor Farh...</td>\n",
       "      <td>03 Feb 2022,Thursday</td>\n",
       "      <td>entertainment</td>\n",
       "    </tr>\n",
       "    <tr>\n",
       "      <th>99</th>\n",
       "      <td>I don't work thinking I'm so many films old: D...</td>\n",
       "      <td>Kriti Kambiri</td>\n",
       "      <td>Actress Deepika Padukone, who made her Bollywo...</td>\n",
       "      <td>03 Feb 2022,Thursday</td>\n",
       "      <td>entertainment</td>\n",
       "    </tr>\n",
       "  </tbody>\n",
       "</table>\n",
       "<p>100 rows × 5 columns</p>\n",
       "</div>"
      ],
      "text/plain": [
       "                                                title            author  \\\n",
       "0   RBI cancels licence of Maha-based Independence...      Shalini Ojha   \n",
       "1           Boost to EVs a big step: Windmill Capital      Roshan Gupta   \n",
       "2   Facebook parent Meta's $230-billion wipeout bi...    Pragya Swastik   \n",
       "3   Tesla co-worker used N-word, threw a hot tool ...      Kiran Khatri   \n",
       "4   Facebook's daily active users fall for first t...    Pragya Swastik   \n",
       "..                                                ...               ...   \n",
       "95  I don't care about all that: Jim Sarbh on soci...     Kriti Kambiri   \n",
       "96  Miss cleaning utensils, floor in Bigg Boss hou...        Ria Kapoor   \n",
       "97  Greatest blessing: Riteish wishes Genelia on 1...  Mahima Kharbanda   \n",
       "98  Javed confirms Farhan-Shibani's wedding, will ...     Kriti Kambiri   \n",
       "99  I don't work thinking I'm so many films old: D...     Kriti Kambiri   \n",
       "\n",
       "                                              content                  date  \\\n",
       "0   RBI has cancelled licence of Maharashtra-based...  03 Feb 2022,Thursday   \n",
       "1   Increased use of EVs in public transport, spec...  03 Feb 2022,Thursday   \n",
       "2   Facebook's parent Meta's shares plunged 27% an...  03 Feb 2022,Thursday   \n",
       "3   A former Tesla worker has filed a lawsuit agai...  03 Feb 2022,Thursday   \n",
       "4   Facebook has seen its daily active users (DAUs...  03 Feb 2022,Thursday   \n",
       "..                                                ...                   ...   \n",
       "95  Actor Jim Sarbh, on being asked about craving ...  03 Feb 2022,Thursday   \n",
       "96  Bigg Boss 15 runner-up Pratik Sehajpal says he...  03 Feb 2022,Thursday   \n",
       "97  Actor Riteish Deshmukh on Thursday marked his ...  03 Feb 2022,Thursday   \n",
       "98  Lyricist Javed Akhtar has confirmed actor Farh...  03 Feb 2022,Thursday   \n",
       "99  Actress Deepika Padukone, who made her Bollywo...  03 Feb 2022,Thursday   \n",
       "\n",
       "         category  \n",
       "0        business  \n",
       "1        business  \n",
       "2        business  \n",
       "3        business  \n",
       "4        business  \n",
       "..            ...  \n",
       "95  entertainment  \n",
       "96  entertainment  \n",
       "97  entertainment  \n",
       "98  entertainment  \n",
       "99  entertainment  \n",
       "\n",
       "[100 rows x 5 columns]"
      ]
     },
     "execution_count": 215,
     "metadata": {},
     "output_type": "execute_result"
    }
   ],
   "source": [
    "get_inshorts_articles()"
   ]
  },
  {
   "cell_type": "code",
   "execution_count": 216,
   "id": "c3d6c5cb",
   "metadata": {},
   "outputs": [],
   "source": [
    "# save the dataframe as json:\n",
    "\n",
    "today = strftime('%Y-%m-%d')\n",
    "get_inshorts_articles().to_json(f'inshorts-{today}.json')"
   ]
  },
  {
   "cell_type": "code",
   "execution_count": null,
   "id": "46e57ddb",
   "metadata": {},
   "outputs": [],
   "source": []
  },
  {
   "cell_type": "markdown",
   "id": "895337c1",
   "metadata": {},
   "source": [
    "3. Bonus: cache the data\n",
    "\n",
    "Write your code such that the acquired data is saved locally in some form or fashion. Your functions that retrieve the data should prefer to read the local data instead of having to make all the requests everytime the function is called. Include a boolean flag in the functions to allow the data to be acquired \"fresh\" from the actual sources (re-writing your local cache)."
   ]
  },
  {
   "cell_type": "code",
   "execution_count": null,
   "id": "d9213222",
   "metadata": {},
   "outputs": [],
   "source": []
  },
  {
   "cell_type": "code",
   "execution_count": null,
   "id": "436f21f2",
   "metadata": {},
   "outputs": [],
   "source": []
  }
 ],
 "metadata": {
  "kernelspec": {
   "display_name": "Python 3 (ipykernel)",
   "language": "python",
   "name": "python3"
  },
  "language_info": {
   "codemirror_mode": {
    "name": "ipython",
    "version": 3
   },
   "file_extension": ".py",
   "mimetype": "text/x-python",
   "name": "python",
   "nbconvert_exporter": "python",
   "pygments_lexer": "ipython3",
   "version": "3.7.3"
  }
 },
 "nbformat": 4,
 "nbformat_minor": 5
}
