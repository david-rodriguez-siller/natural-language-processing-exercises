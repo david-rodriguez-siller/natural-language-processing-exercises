{
 "cells": [
  {
   "cell_type": "markdown",
   "id": "fb03c361",
   "metadata": {},
   "source": [
    "#### Regular Expressions Exercises\n",
    "\n",
    "Within your codeup-data-science directory, create a new repo named natural-language-processing-exercises. This will be where you do your work for this module. Create a repository on GitHub with the same name, and link your local repository to GitHub.\n",
    "\n",
    "Save this work in your natural-language-processing-exercises repo. Then add, commit, and push your changes.\n",
    "\n",
    "Unless a specific file extension is specified, you may do your work either in a python script (.py) or a jupyter notebook (.ipynb).\n",
    "\n",
    "Do your work for this exercise in a file named regex."
   ]
  },
  {
   "cell_type": "code",
   "execution_count": 2,
   "id": "eb363dc8",
   "metadata": {},
   "outputs": [],
   "source": [
    "import re\n",
    "import pandas as pd"
   ]
  },
  {
   "cell_type": "markdown",
   "id": "4ae22f5d",
   "metadata": {},
   "source": [
    "1. Write a function named is_vowel. It should accept a string as input and use a regular expression to determine if the passed string is a vowel. While not explicity mentioned in the lesson, you can treat the result of re.search as a boolean value that indicates whether or not the regular expression matches the given string."
   ]
  },
  {
   "cell_type": "code",
   "execution_count": 14,
   "id": "963c1dbe",
   "metadata": {},
   "outputs": [],
   "source": [
    "def is_there_vowel(string):\n",
    "    return bool(re.search(r'a|e|i|o|u', string, re.IGNORECASE))\n",
    "    "
   ]
  },
  {
   "cell_type": "code",
   "execution_count": 15,
   "id": "a5d527f3",
   "metadata": {},
   "outputs": [
    {
     "data": {
      "text/plain": [
       "False"
      ]
     },
     "execution_count": 15,
     "metadata": {},
     "output_type": "execute_result"
    }
   ],
   "source": [
    "is_there_vowel('bxxp bxxp')"
   ]
  },
  {
   "cell_type": "code",
   "execution_count": 16,
   "id": "d965544b",
   "metadata": {},
   "outputs": [
    {
     "data": {
      "text/plain": [
       "True"
      ]
     },
     "execution_count": 16,
     "metadata": {},
     "output_type": "execute_result"
    }
   ],
   "source": [
    "is_there_vowel('beep boop')"
   ]
  },
  {
   "cell_type": "code",
   "execution_count": 33,
   "id": "f8ee81df",
   "metadata": {},
   "outputs": [],
   "source": [
    "def is_vowel(string):\n",
    "    return bool(re.search(r'[^bcdfghjklmnpqrstvwxyz]', string, re.IGNORECASE))"
   ]
  },
  {
   "cell_type": "code",
   "execution_count": 34,
   "id": "63f96e38",
   "metadata": {},
   "outputs": [
    {
     "data": {
      "text/plain": [
       "False"
      ]
     },
     "execution_count": 34,
     "metadata": {},
     "output_type": "execute_result"
    }
   ],
   "source": [
    "is_vowel('bby')"
   ]
  },
  {
   "cell_type": "code",
   "execution_count": 35,
   "id": "1dd287c3",
   "metadata": {},
   "outputs": [
    {
     "data": {
      "text/plain": [
       "True"
      ]
     },
     "execution_count": 35,
     "metadata": {},
     "output_type": "execute_result"
    }
   ],
   "source": [
    "is_vowel('aeiou')"
   ]
  },
  {
   "cell_type": "markdown",
   "id": "acfd9f5e",
   "metadata": {},
   "source": [
    "2. Write a function named is_valid_username that accepts a string as input. A valid username starts with a lowercase letter, and only consists of lowercase letters, numbers, or the _ character. It should also be no longer than 32 characters. The function should return either True or False depending on whether the passed string is a valid username.\n",
    "\n",
    ">is_valid_username('aaaaaaaaaaaaaaaaaaaaaaaaaaaaaaaaa')\n",
    ">>False\n",
    "\n",
    ">is_valid_username('codeup')\n",
    ">>True\n",
    "\n",
    ">is_valid_username('Codeup')\n",
    ">>False\n",
    "\n",
    ">is_valid_username('codeup123')\n",
    ">>True\n",
    "\n",
    ">is_valid_username('1codeup')\n",
    ">>False"
   ]
  },
  {
   "cell_type": "code",
   "execution_count": 157,
   "id": "69f8f76b",
   "metadata": {},
   "outputs": [],
   "source": [
    "def is_valid_username(string):\n",
    "    if bool(re.search(r'^[a-z][a-z0-9_]{,31}$', string)) == True:\n",
    "        return True\n",
    "    else:\n",
    "        return False"
   ]
  },
  {
   "cell_type": "code",
   "execution_count": 158,
   "id": "af0559d2",
   "metadata": {},
   "outputs": [
    {
     "data": {
      "text/plain": [
       "False"
      ]
     },
     "execution_count": 158,
     "metadata": {},
     "output_type": "execute_result"
    }
   ],
   "source": [
    "is_valid_username('3David')"
   ]
  },
  {
   "cell_type": "code",
   "execution_count": 159,
   "id": "ffea1cba",
   "metadata": {},
   "outputs": [
    {
     "data": {
      "text/plain": [
       "True"
      ]
     },
     "execution_count": 159,
     "metadata": {},
     "output_type": "execute_result"
    }
   ],
   "source": [
    "is_valid_username('david3_codeup')"
   ]
  },
  {
   "cell_type": "code",
   "execution_count": 160,
   "id": "70f34055",
   "metadata": {},
   "outputs": [
    {
     "data": {
      "text/plain": [
       "False"
      ]
     },
     "execution_count": 160,
     "metadata": {},
     "output_type": "execute_result"
    }
   ],
   "source": [
    "is_valid_username('aaaaaaaaaaaaaaaaaaaaaaaaaaaaaaaaa')"
   ]
  },
  {
   "cell_type": "code",
   "execution_count": 161,
   "id": "ee265bad",
   "metadata": {},
   "outputs": [
    {
     "data": {
      "text/plain": [
       "True"
      ]
     },
     "execution_count": 161,
     "metadata": {},
     "output_type": "execute_result"
    }
   ],
   "source": [
    "is_valid_username('codeup')"
   ]
  },
  {
   "cell_type": "code",
   "execution_count": 162,
   "id": "d96f638c",
   "metadata": {},
   "outputs": [
    {
     "data": {
      "text/plain": [
       "False"
      ]
     },
     "execution_count": 162,
     "metadata": {},
     "output_type": "execute_result"
    }
   ],
   "source": [
    "is_valid_username('Codeup')"
   ]
  },
  {
   "cell_type": "code",
   "execution_count": 163,
   "id": "c45dd347",
   "metadata": {},
   "outputs": [
    {
     "data": {
      "text/plain": [
       "True"
      ]
     },
     "execution_count": 163,
     "metadata": {},
     "output_type": "execute_result"
    }
   ],
   "source": [
    "is_valid_username('codeup123')"
   ]
  },
  {
   "cell_type": "code",
   "execution_count": 164,
   "id": "91cf6738",
   "metadata": {},
   "outputs": [
    {
     "data": {
      "text/plain": [
       "False"
      ]
     },
     "execution_count": 164,
     "metadata": {},
     "output_type": "execute_result"
    }
   ],
   "source": [
    "is_valid_username('1codeup')"
   ]
  },
  {
   "cell_type": "markdown",
   "id": "fa0488c5",
   "metadata": {},
   "source": [
    "3. Write a regular expression to capture phone numbers. It should match all of the following:\n",
    "\n",
    ">(210) 867 5309 \n",
    "\n",
    ">+1 210.867.5309\n",
    "\n",
    ">867-5309\n",
    "\n",
    ">210-867-5309"
   ]
  },
  {
   "cell_type": "code",
   "execution_count": 142,
   "id": "fe027a7e",
   "metadata": {},
   "outputs": [],
   "source": [
    "phone_nos = ['(210) 867 5309', '+1 210.867.5309', '867-5309', '210-867-5309']"
   ]
  },
  {
   "cell_type": "code",
   "execution_count": 149,
   "id": "deba79da",
   "metadata": {
    "scrolled": false
   },
   "outputs": [
    {
     "name": "stdout",
     "output_type": "stream",
     "text": [
      "True\n",
      "True\n",
      "True\n",
      "True\n"
     ]
    }
   ],
   "source": [
    "for number in phone_nos:\n",
    "    print(bool(re.match(r'\\+?\\d?\\s?\\(?(\\d{3})?\\)?\\s?-?\\.?\\d{3}?\\s?-?\\.?\\d{4}', number)))"
   ]
  },
  {
   "cell_type": "markdown",
   "id": "9279c59f",
   "metadata": {},
   "source": [
    "4. Use regular expressions to convert the dates below to the standardized year-month-day format.\n",
    "\n",
    ">02/04/19\n",
    "\n",
    ">02/05/19\n",
    "\n",
    ">02/06/19\n",
    "\n",
    ">02/07/19\n",
    "\n",
    ">02/08/19\n",
    "\n",
    ">02/09/19\n",
    "\n",
    ">02/10/19"
   ]
  },
  {
   "cell_type": "code",
   "execution_count": 165,
   "id": "a0e1a46d",
   "metadata": {},
   "outputs": [],
   "source": [
    "dates = ['02/04/19','02/05/19','02/05/19','02/07/19','02/08/19','02/09/19','02/10/19']"
   ]
  },
  {
   "cell_type": "code",
   "execution_count": 173,
   "id": "e09ed0ca",
   "metadata": {},
   "outputs": [
    {
     "name": "stdout",
     "output_type": "stream",
     "text": [
      "2019-02-04\n",
      "2019-02-05\n",
      "2019-02-05\n",
      "2019-02-07\n",
      "2019-02-08\n",
      "2019-02-09\n",
      "2019-02-10\n"
     ]
    }
   ],
   "source": [
    "for date in dates:\n",
    "    print(re.sub(r'(\\d{1,2})/(\\d{1,2})/(\\d{1,2})','20\\\\3-\\\\1-\\\\2',date))"
   ]
  },
  {
   "cell_type": "markdown",
   "id": "ccbd4d81",
   "metadata": {},
   "source": [
    "5. Write a regex to extract the various parts of these logfile lines:\n",
    "\n",
    ">GET /api/v1/sales?page=86 [16/Apr/2019:193452+0000] HTTP/1.1 {200} 510348 \"python-requests/2.21.0\" 97.105.19.58\n",
    "\n",
    ">POST /users_accounts/file-upload [16/Apr/2019:193452+0000] HTTP/1.1 {201} 42 \"User-Agent: Mozilla/5.0 (X11; Fedora; Fedora; Linux x86_64) AppleWebKit/537.36 (KHTML, like Gecko) Chrome/73.0.3683.86 Safari/537.36\" 97.105.19.58\n",
    "\n",
    ">GET /api/v1/items?page=3 [16/Apr/2019:193453+0000] HTTP/1.1 {429} 3561 \"python-requests/2.21.0\" 97.105.19.58\n",
    "\n"
   ]
  },
  {
   "cell_type": "code",
   "execution_count": 6,
   "id": "37d536bf",
   "metadata": {},
   "outputs": [],
   "source": [
    "logfile_lines = ['GET /api/v1/sales?page=86 [16/Apr/2019:193452+0000] HTTP/1.1 {200} 510348 \"python-requests/2.21.0\" 97.105.19.58', 'POST /users_accounts/file-upload [16/Apr/2019:193452+0000] HTTP/1.1 {201} 42 \"User-Agent: Mozilla/5.0 (X11; Fedora; Fedora; Linux x86_64) AppleWebKit/537.36 (KHTML, like Gecko) Chrome/73.0.3683.86 Safari/537.36\" 97.105.19.58', 'GET /api/v1/items?page=3 [16/Apr/2019:193453+0000] HTTP/1.1 {429} 3561 \"python-requests/2.21.0\" 97.105.19.58']"
   ]
  },
  {
   "cell_type": "code",
   "execution_count": 7,
   "id": "939cb3e0",
   "metadata": {},
   "outputs": [
    {
     "name": "stdout",
     "output_type": "stream",
     "text": [
      "['GET', '/api/v1/sales?page=86', '[16/Apr/2019:193452+0000]', 'HTTP/1.1', '{200}', '510348', '\"python-requests/2.21.0\"', '97.105.19.58']\n",
      "['POST', '/users_accounts/file-upload', '[16/Apr/2019:193452+0000]', 'HTTP/1.1', '{201}', '42', '\"User-Agent:', 'Mozilla/5.0', '(X11;', 'Fedora;', 'Fedora;', 'Linux', 'x86_64)', 'AppleWebKit/537.36', '(KHTML,', 'like', 'Gecko)', 'Chrome/73.0.3683.86', 'Safari/537.36\"', '97.105.19.58']\n",
      "['GET', '/api/v1/items?page=3', '[16/Apr/2019:193453+0000]', 'HTTP/1.1', '{429}', '3561', '\"python-requests/2.21.0\"', '97.105.19.58']\n"
     ]
    }
   ],
   "source": [
    "for line in logfile_lines:\n",
    "    print(re.split(r\" \", line))"
   ]
  },
  {
   "cell_type": "code",
   "execution_count": 8,
   "id": "692e6e17",
   "metadata": {},
   "outputs": [
    {
     "data": {
      "text/plain": [
       "['this', 'that', 'and', 'the', 'other']"
      ]
     },
     "execution_count": 8,
     "metadata": {},
     "output_type": "execute_result"
    }
   ],
   "source": [
    "re.split(r\" \", \"this that and the other\")"
   ]
  },
  {
   "cell_type": "code",
   "execution_count": 9,
   "id": "d7801dd8",
   "metadata": {},
   "outputs": [],
   "source": [
    "log_pattern = re.compile(r\"\"\"\n",
    "(?P<method>GET|POST)\n",
    "\\s\n",
    "(?P<path>/[/\\w\\-\\?=]+)\n",
    "\\s\n",
    "\\[(?P<timestamp>.+)\\]\n",
    "\\s\n",
    "(?P<http_version>HTTP/\\d+\\.\\d+)\n",
    "\\s\n",
    "\\{(?P<status_code>\\d+)\\}\n",
    "\\s\n",
    "(?P<bytes>\\d+)\n",
    "\\s\n",
    "\"(?P<user_agent>.+)\"\n",
    "\\s(?P<ip>\\d{1,3}\\.\\d{1,3}\\.\\d{1,3}\\.\\d{1,3})\n",
    "$\n",
    "\"\"\", re.VERBOSE)"
   ]
  },
  {
   "cell_type": "code",
   "execution_count": 10,
   "id": "36c671cc",
   "metadata": {},
   "outputs": [
    {
     "data": {
      "text/plain": [
       "[{'method': 'GET',\n",
       "  'path': '/api/v1/sales?page=86',\n",
       "  'timestamp': '16/Apr/2019:193452+0000',\n",
       "  'http_version': 'HTTP/1.1',\n",
       "  'status_code': '200',\n",
       "  'bytes': '510348',\n",
       "  'user_agent': 'python-requests/2.21.0',\n",
       "  'ip': '97.105.19.58'},\n",
       " {'method': 'POST',\n",
       "  'path': '/users_accounts/file-upload',\n",
       "  'timestamp': '16/Apr/2019:193452+0000',\n",
       "  'http_version': 'HTTP/1.1',\n",
       "  'status_code': '201',\n",
       "  'bytes': '42',\n",
       "  'user_agent': 'User-Agent: Mozilla/5.0 (X11; Fedora; Fedora; Linux x86_64) AppleWebKit/537.36 (KHTML, like Gecko) Chrome/73.0.3683.86 Safari/537.36',\n",
       "  'ip': '97.105.19.58'},\n",
       " {'method': 'GET',\n",
       "  'path': '/api/v1/items?page=3',\n",
       "  'timestamp': '16/Apr/2019:193453+0000',\n",
       "  'http_version': 'HTTP/1.1',\n",
       "  'status_code': '429',\n",
       "  'bytes': '3561',\n",
       "  'user_agent': 'python-requests/2.21.0',\n",
       "  'ip': '97.105.19.58'}]"
      ]
     },
     "execution_count": 10,
     "metadata": {},
     "output_type": "execute_result"
    }
   ],
   "source": [
    "rows = [re.search(log_pattern, line).groupdict() for line in logfile_lines]\n",
    "rows"
   ]
  },
  {
   "cell_type": "code",
   "execution_count": 11,
   "id": "7f613188",
   "metadata": {},
   "outputs": [
    {
     "data": {
      "text/html": [
       "<div>\n",
       "<style scoped>\n",
       "    .dataframe tbody tr th:only-of-type {\n",
       "        vertical-align: middle;\n",
       "    }\n",
       "\n",
       "    .dataframe tbody tr th {\n",
       "        vertical-align: top;\n",
       "    }\n",
       "\n",
       "    .dataframe thead th {\n",
       "        text-align: right;\n",
       "    }\n",
       "</style>\n",
       "<table border=\"1\" class=\"dataframe\">\n",
       "  <thead>\n",
       "    <tr style=\"text-align: right;\">\n",
       "      <th></th>\n",
       "      <th>method</th>\n",
       "      <th>path</th>\n",
       "      <th>timestamp</th>\n",
       "      <th>http_version</th>\n",
       "      <th>status_code</th>\n",
       "      <th>bytes</th>\n",
       "      <th>user_agent</th>\n",
       "      <th>ip</th>\n",
       "    </tr>\n",
       "  </thead>\n",
       "  <tbody>\n",
       "    <tr>\n",
       "      <th>0</th>\n",
       "      <td>GET</td>\n",
       "      <td>/api/v1/sales?page=86</td>\n",
       "      <td>16/Apr/2019:193452+0000</td>\n",
       "      <td>HTTP/1.1</td>\n",
       "      <td>200</td>\n",
       "      <td>510348</td>\n",
       "      <td>python-requests/2.21.0</td>\n",
       "      <td>97.105.19.58</td>\n",
       "    </tr>\n",
       "    <tr>\n",
       "      <th>1</th>\n",
       "      <td>POST</td>\n",
       "      <td>/users_accounts/file-upload</td>\n",
       "      <td>16/Apr/2019:193452+0000</td>\n",
       "      <td>HTTP/1.1</td>\n",
       "      <td>201</td>\n",
       "      <td>42</td>\n",
       "      <td>User-Agent: Mozilla/5.0 (X11; Fedora; Fedora; ...</td>\n",
       "      <td>97.105.19.58</td>\n",
       "    </tr>\n",
       "    <tr>\n",
       "      <th>2</th>\n",
       "      <td>GET</td>\n",
       "      <td>/api/v1/items?page=3</td>\n",
       "      <td>16/Apr/2019:193453+0000</td>\n",
       "      <td>HTTP/1.1</td>\n",
       "      <td>429</td>\n",
       "      <td>3561</td>\n",
       "      <td>python-requests/2.21.0</td>\n",
       "      <td>97.105.19.58</td>\n",
       "    </tr>\n",
       "  </tbody>\n",
       "</table>\n",
       "</div>"
      ],
      "text/plain": [
       "  method                         path                timestamp http_version  \\\n",
       "0    GET        /api/v1/sales?page=86  16/Apr/2019:193452+0000     HTTP/1.1   \n",
       "1   POST  /users_accounts/file-upload  16/Apr/2019:193452+0000     HTTP/1.1   \n",
       "2    GET         /api/v1/items?page=3  16/Apr/2019:193453+0000     HTTP/1.1   \n",
       "\n",
       "  status_code   bytes                                         user_agent  \\\n",
       "0         200  510348                             python-requests/2.21.0   \n",
       "1         201      42  User-Agent: Mozilla/5.0 (X11; Fedora; Fedora; ...   \n",
       "2         429    3561                             python-requests/2.21.0   \n",
       "\n",
       "             ip  \n",
       "0  97.105.19.58  \n",
       "1  97.105.19.58  \n",
       "2  97.105.19.58  "
      ]
     },
     "execution_count": 11,
     "metadata": {},
     "output_type": "execute_result"
    }
   ],
   "source": [
    "df = pd.DataFrame(rows)\n",
    "df"
   ]
  },
  {
   "cell_type": "markdown",
   "id": "112bac39",
   "metadata": {},
   "source": [
    "Bonus Exercise\n",
    "\n",
    "You can find a list of words on your mac at /usr/share/dict/words. Use this file to answer the following questions:\n",
    "\n",
    "- How many words have at least 3 vowels?\n",
    "- How many words have at least 3 vowels in a row?\n",
    "- How many words have at least 4 consonants in a row?\n",
    "- How many words start and end with the same letter?\n",
    "- How many words start and end with a vowel?\n",
    "- How many words contain the same letter 3 times in a row?\n",
    "- What other interesting patterns in words can you find?\n"
   ]
  },
  {
   "cell_type": "code",
   "execution_count": null,
   "id": "aca28ff2",
   "metadata": {},
   "outputs": [],
   "source": []
  },
  {
   "cell_type": "code",
   "execution_count": null,
   "id": "31678828",
   "metadata": {},
   "outputs": [],
   "source": []
  }
 ],
 "metadata": {
  "kernelspec": {
   "display_name": "Python 3 (ipykernel)",
   "language": "python",
   "name": "python3"
  },
  "language_info": {
   "codemirror_mode": {
    "name": "ipython",
    "version": 3
   },
   "file_extension": ".py",
   "mimetype": "text/x-python",
   "name": "python",
   "nbconvert_exporter": "python",
   "pygments_lexer": "ipython3",
   "version": "3.7.3"
  }
 },
 "nbformat": 4,
 "nbformat_minor": 5
}
