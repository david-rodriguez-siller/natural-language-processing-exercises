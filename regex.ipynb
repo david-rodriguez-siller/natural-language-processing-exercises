{
 "cells": [
  {
   "cell_type": "markdown",
   "id": "8cf226af",
   "metadata": {},
   "source": [
    "#### Regular Expressions Exercises\n",
    "\n",
    "Within your codeup-data-science directory, create a new repo named natural-language-processing-exercises. This will be where you do your work for this module. Create a repository on GitHub with the same name, and link your local repository to GitHub.\n",
    "\n",
    "Save this work in your natural-language-processing-exercises repo. Then add, commit, and push your changes.\n",
    "\n",
    "Unless a specific file extension is specified, you may do your work either in a python script (.py) or a jupyter notebook (.ipynb).\n",
    "\n",
    "Do your work for this exercise in a file named regex."
   ]
  },
  {
   "cell_type": "code",
   "execution_count": 1,
   "id": "65cfeed3",
   "metadata": {},
   "outputs": [],
   "source": [
    "import re"
   ]
  },
  {
   "cell_type": "markdown",
   "id": "6ecf5050",
   "metadata": {},
   "source": [
    "1. Write a function named is_vowel. It should accept a string as input and use a regular expression to determine if the passed string is a vowel. While not explicity mentioned in the lesson, you can treat the result of re.search as a boolean value that indicates whether or not the regular expression matches the given string."
   ]
  },
  {
   "cell_type": "code",
   "execution_count": 14,
   "id": "4364f98b",
   "metadata": {},
   "outputs": [],
   "source": [
    "def is_there_vowel(string):\n",
    "    return bool(re.search(r'a|e|i|o|u', string, re.IGNORECASE))\n",
    "    "
   ]
  },
  {
   "cell_type": "code",
   "execution_count": 15,
   "id": "854465ef",
   "metadata": {},
   "outputs": [
    {
     "data": {
      "text/plain": [
       "False"
      ]
     },
     "execution_count": 15,
     "metadata": {},
     "output_type": "execute_result"
    }
   ],
   "source": [
    "is_there_vowel('bxxp bxxp')"
   ]
  },
  {
   "cell_type": "code",
   "execution_count": 16,
   "id": "4cb79e69",
   "metadata": {},
   "outputs": [
    {
     "data": {
      "text/plain": [
       "True"
      ]
     },
     "execution_count": 16,
     "metadata": {},
     "output_type": "execute_result"
    }
   ],
   "source": [
    "is_there_vowel('beep boop')"
   ]
  },
  {
   "cell_type": "code",
   "execution_count": 33,
   "id": "21283657",
   "metadata": {},
   "outputs": [],
   "source": [
    "def is_vowel(string):\n",
    "    return bool(re.search(r'[^bcdfghjklmnpqrstvwxyz]', string, re.IGNORECASE))"
   ]
  },
  {
   "cell_type": "code",
   "execution_count": 34,
   "id": "92563cea",
   "metadata": {},
   "outputs": [
    {
     "data": {
      "text/plain": [
       "False"
      ]
     },
     "execution_count": 34,
     "metadata": {},
     "output_type": "execute_result"
    }
   ],
   "source": [
    "is_vowel('bby')"
   ]
  },
  {
   "cell_type": "code",
   "execution_count": 35,
   "id": "1ed5ce87",
   "metadata": {},
   "outputs": [
    {
     "data": {
      "text/plain": [
       "True"
      ]
     },
     "execution_count": 35,
     "metadata": {},
     "output_type": "execute_result"
    }
   ],
   "source": [
    "is_vowel('aeiou')"
   ]
  },
  {
   "cell_type": "markdown",
   "id": "f18b2025",
   "metadata": {},
   "source": [
    "2. Write a function named is_valid_username that accepts a string as input. A valid username starts with a lowercase letter, and only consists of lowercase letters, numbers, or the _ character. It should also be no longer than 32 characters. The function should return either True or False depending on whether the passed string is a valid username.\n"
   ]
  },
  {
   "cell_type": "code",
   "execution_count": 124,
   "id": "ad73ef21",
   "metadata": {},
   "outputs": [],
   "source": [
    "def is_valid_username(string):\n",
    "    if bool(re.search(r'^[a-z][a-z0-9_]{0,31}$', string)) == True:\n",
    "        return True\n",
    "    else:\n",
    "        return False"
   ]
  },
  {
   "cell_type": "code",
   "execution_count": 136,
   "id": "7ae4093b",
   "metadata": {},
   "outputs": [
    {
     "data": {
      "text/plain": [
       "False"
      ]
     },
     "execution_count": 136,
     "metadata": {},
     "output_type": "execute_result"
    }
   ],
   "source": [
    "is_valid_username('3david')"
   ]
  },
  {
   "cell_type": "code",
   "execution_count": 140,
   "id": "7e5a4603",
   "metadata": {},
   "outputs": [
    {
     "data": {
      "text/plain": [
       "True"
      ]
     },
     "execution_count": 140,
     "metadata": {},
     "output_type": "execute_result"
    }
   ],
   "source": [
    "is_valid_username('david3_codeup')"
   ]
  },
  {
   "cell_type": "markdown",
   "id": "7ae06fad",
   "metadata": {},
   "source": [
    "3. Write a regular expression to capture phone numbers. It should match all of the following:\n",
    "\n",
    ">(210) 867 5309 \n",
    "\n",
    ">+1 210.867.5309\n",
    "\n",
    ">867-5309\n",
    "\n",
    ">210-867-5309"
   ]
  },
  {
   "cell_type": "code",
   "execution_count": 142,
   "id": "8717027b",
   "metadata": {},
   "outputs": [],
   "source": [
    "phone_nos = ['(210) 867 5309', '+1 210.867.5309', '867-5309', '210-867-5309']"
   ]
  },
  {
   "cell_type": "code",
   "execution_count": 149,
   "id": "aaec9f98",
   "metadata": {
    "scrolled": false
   },
   "outputs": [
    {
     "name": "stdout",
     "output_type": "stream",
     "text": [
      "True\n",
      "True\n",
      "True\n",
      "True\n"
     ]
    }
   ],
   "source": [
    "for number in phone_nos:\n",
    "    print(bool(re.match(r'\\+?\\d?\\s?\\(?(\\d{3})?\\)?\\s?-?\\.?\\d{3}?\\s?-?\\.?\\d{4}', number)))"
   ]
  },
  {
   "cell_type": "markdown",
   "id": "44ce9d81",
   "metadata": {},
   "source": [
    "4. Use regular expressions to convert the dates below to the standardized year-month-day format.\n",
    "\n",
    ">02/04/19\n",
    "\n",
    ">02/05/19\n",
    "\n",
    ">02/06/19\n",
    "\n",
    ">02/07/19\n",
    "\n",
    ">02/08/19\n",
    "\n",
    ">02/09/19\n",
    "\n",
    ">02/10/19"
   ]
  },
  {
   "cell_type": "code",
   "execution_count": null,
   "id": "2cc88b2c",
   "metadata": {},
   "outputs": [],
   "source": []
  },
  {
   "cell_type": "code",
   "execution_count": null,
   "id": "85417be1",
   "metadata": {},
   "outputs": [],
   "source": []
  },
  {
   "cell_type": "markdown",
   "id": "2b7b908a",
   "metadata": {},
   "source": [
    "5. Write a regex to extract the various parts of these logfile lines:\n",
    "\n",
    ">GET /api/v1/sales?page=86 [16/Apr/2019:193452+0000] HTTP/1.1 {200} 510348 \"python-requests/2.21.0\" 97.105.19.58\n",
    "\n",
    ">POST /users_accounts/file-upload [16/Apr/2019:193452+0000] HTTP/1.1 {201} 42 \"User-Agent: Mozilla/5.0 (X11; Fedora; Fedora; Linux x86_64) AppleWebKit/537.36 (KHTML, like Gecko) Chrome/73.0.3683.86 Safari/537.36\" 97.105.19.58\n",
    "\n",
    ">GET /api/v1/items?page=3 [16/Apr/2019:193453+0000] HTTP/1.1 {429} 3561 \"python-requests/2.21.0\" 97.105.19.58\n",
    "\n"
   ]
  },
  {
   "cell_type": "code",
   "execution_count": null,
   "id": "7e148f3f",
   "metadata": {},
   "outputs": [],
   "source": []
  },
  {
   "cell_type": "code",
   "execution_count": null,
   "id": "77de1587",
   "metadata": {},
   "outputs": [],
   "source": []
  },
  {
   "cell_type": "markdown",
   "id": "1d77b9c5",
   "metadata": {},
   "source": [
    "Bonus Exercise\n",
    "\n",
    "You can find a list of words on your mac at /usr/share/dict/words. Use this file to answer the following questions:\n",
    "\n",
    "- How many words have at least 3 vowels?\n",
    "- How many words have at least 3 vowels in a row?\n",
    "- How many words have at least 4 consonants in a row?\n",
    "- How many words start and end with the same letter?\n",
    "- How many words start and end with a vowel?\n",
    "- How many words contain the same letter 3 times in a row?\n",
    "- What other interesting patterns in words can you find?\n"
   ]
  },
  {
   "cell_type": "code",
   "execution_count": null,
   "id": "b4d5ca97",
   "metadata": {},
   "outputs": [],
   "source": []
  },
  {
   "cell_type": "code",
   "execution_count": null,
   "id": "2b3277e6",
   "metadata": {},
   "outputs": [],
   "source": []
  }
 ],
 "metadata": {
  "kernelspec": {
   "display_name": "Python 3 (ipykernel)",
   "language": "python",
   "name": "python3"
  },
  "language_info": {
   "codemirror_mode": {
    "name": "ipython",
    "version": 3
   },
   "file_extension": ".py",
   "mimetype": "text/x-python",
   "name": "python",
   "nbconvert_exporter": "python",
   "pygments_lexer": "ipython3",
   "version": "3.7.3"
  }
 },
 "nbformat": 4,
 "nbformat_minor": 5
}
