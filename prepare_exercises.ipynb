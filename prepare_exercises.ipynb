{
 "cells": [
  {
   "cell_type": "markdown",
   "id": "19d30059",
   "metadata": {},
   "source": [
    "### Data Preparation Exercises\n",
    "The end result of this exercise should be a file named `prepare.py` that defines the requested functions.\n",
    "\n",
    "In this exercise we will be defining some functions to prepare textual data. These functions should apply equally well to both the codeup blog articles and the news articles that were previously acquired."
   ]
  },
  {
   "cell_type": "code",
   "execution_count": 1,
   "id": "10231925",
   "metadata": {},
   "outputs": [],
   "source": [
    "import unicodedata\n",
    "import re\n",
    "import json\n",
    "\n",
    "import nltk\n",
    "from nltk.tokenize.toktok import ToktokTokenizer\n",
    "from nltk.corpus import stopwords\n",
    "\n",
    "import pandas as pd\n",
    "\n",
    "from time import strftime"
   ]
  },
  {
   "cell_type": "markdown",
   "id": "bf99861c",
   "metadata": {},
   "source": [
    "1. Define a function named `basic_clean`. It should take in a string and apply some basic text cleaning to it:\n",
    "\n",
    " - Lowercase everything\n",
    " - Normalize unicode characters\n",
    " - Replace anything that is not a letter, number, whitespace or a single quote."
   ]
  },
  {
   "cell_type": "code",
   "execution_count": 2,
   "id": "da8ec6cb",
   "metadata": {},
   "outputs": [],
   "source": [
    "text = \"\"\"\n",
    "Over 250,000 without power as major winter storm slogs east\n",
    "A serious ice storm is hitting from eastern Texas to southwestern Ohio, with heavy snow to the north\n",
    "\n",
    "\n",
    "Ice coats tree branches in Dallas on Feb. 3. (LM Otero/AP)\n",
    "More than 100 million Americans from the Permian Basin of West Texas to Maine’s northern border are included in winter weather advisories or winter storm and ice storm warnings, a swath of weather alerts about 2,000 miles long.\n",
    "\n",
    "In Tennessee, the number of power outages had spiked to 140,000 Thursday afternoon, many of them near Memphis. Outage numbers were also climbing in Ohio (26,000) and Kentucky (15,000), according to PowerOutage.us, which tracks outages nationwide. The outages were mostly because of ice accumulation.\n",
    "\n",
    "Outage numbers in Texas and Arkansas, which peaked Thursday morning over 70,000 and 25,000, respectively, were slowly declining in the afternoon as freezing rain transitioned more to sleet and snow, which do not accumulate as readily on trees and powerlines. The outage count in Texas had dropped below 50,000.\n",
    "\n",
    "Air travel nationwide was plagued due to the sprawling storm. There were more than 5,500 cancellations and 3,300 delays, according to the tracking website FlightAware — with many concentrated in Texas.\n",
    "\n",
    "More than 1,100 flights departing from or scheduled to arrive at Dallas Fort Worth International Airport were canceled. The airport tweeted earlier that runways were being treated for snow and ice. More than 400 combined flights were canceled at Austin-Bergstrom International Airport, and more than 350 were canceled at Dallas’s Love Field.\n",
    "\n",
    "4,700 flights canceled Thursday as winter storms slam Midwest, southern U.S.\n",
    "\n",
    "Substantial accumulations of ice, enough to snap tree limbs and trigger power outages, were expected from roughly eastern Texas to southwestern Ohio. To the north, heavy snowfall, exceeding 6 inches, was projected in St. Louis, Indianapolis, Cleveland, Buffalo and Burlington, Vt., into Friday.\n",
    "\n",
    "The National Weather Service warned of hazardous road conditions throughout the affected areas, which it said would probably see well-below-average temperatures for at least the next couple of days.\n",
    "\n",
    "Parts of the Mississippi River valley and the Great Plains could record temperatures 20 to 40 degrees below average, the Weather Service said. It called the storm “large, prolonged, and significant.”\n",
    "\n",
    "In the Deep South, the Weather Service projected elevated chances for severe thunderstorms, particularly in a zone from southeastern Mississippi to central and southern Alabama where a tornado watch was in effect until 6 p.m. Thursday.\n",
    "\n",
    "The Weather Service in Birmingham warned of a “large and extremely dangerous tornado” near Sawyerville, Ala., about 30 miles southwest of Tuscaloosa, just after 3 p.m. Eastern time, where there were reports of damage on social media.\n",
    "\n",
    "On Feb. 2, a major winter storm began dumping a wintry mess on more than 80 million Americans across the Midwest and South. (The Washington Post)\n",
    "Freezing rain was ongoing in eastern Texas, eastern Arkansas, western Tennessee, northern Kentucky and southwest Ohio, including Memphis and Cincinnati.\n",
    "\n",
    "Some of the worst conditions were in southwest Tennessee, with over 120,000 power outages reported in Shelby County, home to Memphis. As much as half an inch of ice had accumulated on tree limbs, which were crackling under its weight.\n",
    "\n",
    "“Travel conditions are bad and getting worse” around Cincinnati, where there had been a glaze of ice, the Weather Service tweeted. The ice was anticipated to switch to snow in Cincinnati during the evening.\n",
    "\n",
    "The Weather Service issued a special bulletin for the Indiana-Kentucky border area, southern Ohio and far western Pennsylvania, warning of “a long duration of sleet and freezing rain” continuing into Thursday evening.\n",
    "\n",
    "In Dallas, freezing rain and sleet had changed to snow late morning, and a heavy burst passed through the city midday. \"Road conditions are treacherous,” the Weather Service tweeted. Snow was beginning to taper off in Dallas late in the afternoon.\n",
    "\n",
    "Farther north, steady snow was falling in an extensive zone from Little Rock to St. Louis to Cleveland to Buffalo to Burlington, Vt.\n",
    "\n",
    "Arctic high pressure parked over the Dakotas is supplying frigid air for a front that stretches from southeast Louisiana to Nashville to Pittsburgh to northern Maine.\n",
    "\n",
    "Moisture riding up and over the cold front from the south is falling into a subfreezing air mass, hardening into ice on contact and quickly accreting into a hazardous glaze.\n",
    "\n",
    "Meanwhile, flooding rain has been falling on the system’s warm side in the Deep South, with flash flood watches up in northern Alabama, northeast Georgia, southeast Tennessee and southwest North Carolina.\n",
    "\n",
    "Frozen precipitation should end in Texas on Thursday evening with even a little sleet possible in Houston before it shuts down.\n",
    "\n",
    "The heaviest icing is expected in eastern Arkansas, western Tennessee, northern Kentucky and parts of southern Ohio Thursday but should gradually taper off Thursday night, possibly ending as brief period of snow.\n",
    "\n",
    "The most substantial icy precipitation will shift from the Tennessee Valley into West Virginia and central Pennsylvania on Thursday night into Friday morning. Pittsburgh and State College, Pa., could see significant icing overnight before precipitation flips to snow. Areas northwest of New York City in the Hudson Valley could see icy conditions Friday morning as well.\n",
    "\n",
    "The snow should finally end around Little Rock and St. Louis early Thursday evening. However, it will continue well into the overnight hours in southeast Missouri, southern Illinois, southern Indiana, Indiana and the northern third of Ohio.\n",
    "\n",
    "Extreme northwest Pennsylvania, Upstate New York around the Finger Lakes and the Tug Hill Plateau and Vermont will see snowfall well into Friday. The snow will enter Maine and New Hampshire in northern New England on Thursday afternoon.\n",
    "\n",
    "The heaviest snow totals will be realized just north of the freezing rain and sleet line, with another 6 to 12 inches possible, especially in areas that haven’t seen snow yet into the interior Northeast.\n",
    "\n",
    "The storm’s final act comes Friday in eastern New England, when morning rain will transition to freezing rain, sleet and all snow as temperatures crash into the 20s during the evening. A “flash freeze” overnight into early Saturday will cause any remnant moisture and slushy slop on the roadways to harden and freeze.\n",
    "\n",
    "The power situation in Texas\n",
    "\n",
    "\n",
    "Ahead of the storm, Texas Gov. Greg Abbott (R) said Wednesday that “no one can guarantee” there would not be power outages during the first significant test of the state’s power grid a year after a historic freeze killed hundreds of residents and left millions without power for days.\n",
    "\n",
    "The number of outages as of Thursday were “certainly an inconvenience but not that big of a deal in terms of what you might expect from a wind storm and ice storm,” said Michael Webber, an energy resources professor at the University of Texas at Austin.\n",
    "\n",
    "Outages last year were driven largely by a “massive imbalance between supply and demand,” he said, but Thursday seemed driven by wind or ice accumulation that can fell trees.\n",
    "\n",
    "The power at Webber’s home was out but started to return during an interview with The Washington Post.\n",
    "\n",
    "“An outage for two hours — not two and a half days,” he said, underlining the difference from the major storm in 2021.\n",
    "\n",
    "Texas governor says ‘no one can guarantee’ there won’t be power outages in winter storm\n",
    "\n",
    "Daniel Cohan, associate professor of environmental engineering at Rice University in Houston, said Thursday’s outages had been localized, “which anywhere in the world could get when you have an ice storm come through and knock down tree branches and affect local power lines.”\n",
    "\n",
    "Ahead of the winter storm, Texas’s state grid reported that its electric generation units and transmission facilities had met new standards Webber said such inspections and winterization investments will have already been helpful, “but the system hasn’t really been tested yet.”\n",
    "\n",
    "“This storm will not be as cold for as long across as wide an area as last year,” he said. “So it isn’t the same kind of test. It’s a simpler, milder storm in many ways, and the equipment should be in better shape.”\n",
    "\n",
    "In the coming days, Webber said, it will be helpful to monitor how cold it gets in Houston. The state’s biggest city will largely dictate the level of power demand. He said he is also interested in how gas systems and gas-producing regions hold up to the cold, and how that will affect gas supply.\n",
    "\n",
    "Cohan said he’s watching how the wind farms fare, whether major gas pipelines remain in working order and whether “our old fleet of power plants perform better than they did last year.”\n",
    "\n",
    "“If not too many wind farms ice, gas supply stays adequate and not too many power plants fail in the freeze, then we’ll get through this fine and eke by with just enough supply,” Cohan said.\n",
    "\n",
    "Snow and ice totals so far\n",
    "\n",
    "\n",
    "The snow had already piled up to impressive and disruptive levels through Thursday midday, with dozens of locations logging double-digit accumulations. Leading the pack was Colorado Springs, where 22 inches had piled up.\n",
    "\n",
    "Farther east, Chicago was initially predicted to be right on the fringe of snowfall, and the atmosphere delivered — Chicago’s Midway airport tallied 11 inches of snow, while O’Hare International only wound up with 5.6, roughly half that.\n",
    "\n",
    "The ice event underway lagged the snow by about 12 hours, meaning totals will increase as Thursday wears on. But some areas have already seen significant icing.\n",
    "\n",
    "Up to a half-inch of ice was reported in eastern Oklahoma, near the border with Arkansas. Nearly one-quarter inch had accumulated in Fort Smith, Ark.\n",
    "\n",
    "In Texas, the counties of Hunt, Fannin and Collin, north and east of Dallas, reported tree damage from overnight icing, while the Weather Service reported a glaze of around 0.1 inches near Wichita Falls.\n",
    "\n",
    "Little Rock had seen more sleet than freezing rain, with the Weather Service reporting 2.5 inches in north Little Rock.\n",
    "\n",
    "Timothy Bella contributed to this report.\n",
    "\"\"\""
   ]
  },
  {
   "cell_type": "code",
   "execution_count": 4,
   "id": "ea3077a4",
   "metadata": {},
   "outputs": [],
   "source": [
    "def basic_clean(string):\n",
    "    article = string.lower()\n",
    "    article = unicodedata.normalize('NFKD', article)\\\n",
    "    .encode('ascii', 'ignore')\\\n",
    "    .decode('utf-8', 'ignore')\n",
    "    article = re.sub(r\"[^a-z0-9'\\s]\", '', article)\n",
    "    \n",
    "    return article\n"
   ]
  },
  {
   "cell_type": "code",
   "execution_count": 5,
   "id": "9f87a927",
   "metadata": {},
   "outputs": [
    {
     "data": {
      "text/plain": [
       "'\\nover 250000 without power as major winter storm slogs east\\na serious ice storm is hitting from eastern texas to southwestern ohio with heavy snow to the north\\n\\n\\nice coats tree branches in dallas on feb 3 lm oteroap\\nmore than 100 million americans from the permian basin of west texas to maines northern border are included in winter weather advisories or winter storm and ice storm warnings a swath of weather alerts about 2000 miles long\\n\\nin tennessee the number of power outages had spiked to 140000 thursday afternoon many of them near memphis outage numbers were also climbing in ohio 26000 and kentucky 15000 according to poweroutageus which tracks outages nationwide the outages were mostly because of ice accumulation\\n\\noutage numbers in texas and arkansas which peaked thursday morning over 70000 and 25000 respectively were slowly declining in the afternoon as freezing rain transitioned more to sleet and snow which do not accumulate as readily on trees and powerlines the outage count in texas had dropped below 50000\\n\\nair travel nationwide was plagued due to the sprawling storm there were more than 5500 cancellations and 3300 delays according to the tracking website flightaware  with many concentrated in texas\\n\\nmore than 1100 flights departing from or scheduled to arrive at dallas fort worth international airport were canceled the airport tweeted earlier that runways were being treated for snow and ice more than 400 combined flights were canceled at austinbergstrom international airport and more than 350 were canceled at dallass love field\\n\\n4700 flights canceled thursday as winter storms slam midwest southern us\\n\\nsubstantial accumulations of ice enough to snap tree limbs and trigger power outages were expected from roughly eastern texas to southwestern ohio to the north heavy snowfall exceeding 6 inches was projected in st louis indianapolis cleveland buffalo and burlington vt into friday\\n\\nthe national weather service warned of hazardous road conditions throughout the affected areas which it said would probably see wellbelowaverage temperatures for at least the next couple of days\\n\\nparts of the mississippi river valley and the great plains could record temperatures 20 to 40 degrees below average the weather service said it called the storm large prolonged and significant\\n\\nin the deep south the weather service projected elevated chances for severe thunderstorms particularly in a zone from southeastern mississippi to central and southern alabama where a tornado watch was in effect until 6 pm thursday\\n\\nthe weather service in birmingham warned of a large and extremely dangerous tornado near sawyerville ala about 30 miles southwest of tuscaloosa just after 3 pm eastern time where there were reports of damage on social media\\n\\non feb 2 a major winter storm began dumping a wintry mess on more than 80 million americans across the midwest and south the washington post\\nfreezing rain was ongoing in eastern texas eastern arkansas western tennessee northern kentucky and southwest ohio including memphis and cincinnati\\n\\nsome of the worst conditions were in southwest tennessee with over 120000 power outages reported in shelby county home to memphis as much as half an inch of ice had accumulated on tree limbs which were crackling under its weight\\n\\ntravel conditions are bad and getting worse around cincinnati where there had been a glaze of ice the weather service tweeted the ice was anticipated to switch to snow in cincinnati during the evening\\n\\nthe weather service issued a special bulletin for the indianakentucky border area southern ohio and far western pennsylvania warning of a long duration of sleet and freezing rain continuing into thursday evening\\n\\nin dallas freezing rain and sleet had changed to snow late morning and a heavy burst passed through the city midday road conditions are treacherous the weather service tweeted snow was beginning to taper off in dallas late in the afternoon\\n\\nfarther north steady snow was falling in an extensive zone from little rock to st louis to cleveland to buffalo to burlington vt\\n\\narctic high pressure parked over the dakotas is supplying frigid air for a front that stretches from southeast louisiana to nashville to pittsburgh to northern maine\\n\\nmoisture riding up and over the cold front from the south is falling into a subfreezing air mass hardening into ice on contact and quickly accreting into a hazardous glaze\\n\\nmeanwhile flooding rain has been falling on the systems warm side in the deep south with flash flood watches up in northern alabama northeast georgia southeast tennessee and southwest north carolina\\n\\nfrozen precipitation should end in texas on thursday evening with even a little sleet possible in houston before it shuts down\\n\\nthe heaviest icing is expected in eastern arkansas western tennessee northern kentucky and parts of southern ohio thursday but should gradually taper off thursday night possibly ending as brief period of snow\\n\\nthe most substantial icy precipitation will shift from the tennessee valley into west virginia and central pennsylvania on thursday night into friday morning pittsburgh and state college pa could see significant icing overnight before precipitation flips to snow areas northwest of new york city in the hudson valley could see icy conditions friday morning as well\\n\\nthe snow should finally end around little rock and st louis early thursday evening however it will continue well into the overnight hours in southeast missouri southern illinois southern indiana indiana and the northern third of ohio\\n\\nextreme northwest pennsylvania upstate new york around the finger lakes and the tug hill plateau and vermont will see snowfall well into friday the snow will enter maine and new hampshire in northern new england on thursday afternoon\\n\\nthe heaviest snow totals will be realized just north of the freezing rain and sleet line with another 6 to 12 inches possible especially in areas that havent seen snow yet into the interior northeast\\n\\nthe storms final act comes friday in eastern new england when morning rain will transition to freezing rain sleet and all snow as temperatures crash into the 20s during the evening a flash freeze overnight into early saturday will cause any remnant moisture and slushy slop on the roadways to harden and freeze\\n\\nthe power situation in texas\\n\\n\\nahead of the storm texas gov greg abbott r said wednesday that no one can guarantee there would not be power outages during the first significant test of the states power grid a year after a historic freeze killed hundreds of residents and left millions without power for days\\n\\nthe number of outages as of thursday were certainly an inconvenience but not that big of a deal in terms of what you might expect from a wind storm and ice storm said michael webber an energy resources professor at the university of texas at austin\\n\\noutages last year were driven largely by a massive imbalance between supply and demand he said but thursday seemed driven by wind or ice accumulation that can fell trees\\n\\nthe power at webbers home was out but started to return during an interview with the washington post\\n\\nan outage for two hours  not two and a half days he said underlining the difference from the major storm in 2021\\n\\ntexas governor says no one can guarantee there wont be power outages in winter storm\\n\\ndaniel cohan associate professor of environmental engineering at rice university in houston said thursdays outages had been localized which anywhere in the world could get when you have an ice storm come through and knock down tree branches and affect local power lines\\n\\nahead of the winter storm texass state grid reported that its electric generation units and transmission facilities had met new standards webber said such inspections and winterization investments will have already been helpful but the system hasnt really been tested yet\\n\\nthis storm will not be as cold for as long across as wide an area as last year he said so it isnt the same kind of test its a simpler milder storm in many ways and the equipment should be in better shape\\n\\nin the coming days webber said it will be helpful to monitor how cold it gets in houston the states biggest city will largely dictate the level of power demand he said he is also interested in how gas systems and gasproducing regions hold up to the cold and how that will affect gas supply\\n\\ncohan said hes watching how the wind farms fare whether major gas pipelines remain in working order and whether our old fleet of power plants perform better than they did last year\\n\\nif not too many wind farms ice gas supply stays adequate and not too many power plants fail in the freeze then well get through this fine and eke by with just enough supply cohan said\\n\\nsnow and ice totals so far\\n\\n\\nthe snow had already piled up to impressive and disruptive levels through thursday midday with dozens of locations logging doubledigit accumulations leading the pack was colorado springs where 22 inches had piled up\\n\\nfarther east chicago was initially predicted to be right on the fringe of snowfall and the atmosphere delivered  chicagos midway airport tallied 11 inches of snow while ohare international only wound up with 56 roughly half that\\n\\nthe ice event underway lagged the snow by about 12 hours meaning totals will increase as thursday wears on but some areas have already seen significant icing\\n\\nup to a halfinch of ice was reported in eastern oklahoma near the border with arkansas nearly onequarter inch had accumulated in fort smith ark\\n\\nin texas the counties of hunt fannin and collin north and east of dallas reported tree damage from overnight icing while the weather service reported a glaze of around 01 inches near wichita falls\\n\\nlittle rock had seen more sleet than freezing rain with the weather service reporting 25 inches in north little rock\\n\\ntimothy bella contributed to this report\\n'"
      ]
     },
     "execution_count": 5,
     "metadata": {},
     "output_type": "execute_result"
    }
   ],
   "source": [
    "text = basic_clean(text)\n",
    "text"
   ]
  },
  {
   "cell_type": "code",
   "execution_count": null,
   "id": "c54cb012",
   "metadata": {},
   "outputs": [],
   "source": []
  },
  {
   "cell_type": "markdown",
   "id": "76f2879d",
   "metadata": {},
   "source": [
    "2. Define a function named `tokenize`. It should take in a string and tokenize all the words in the string."
   ]
  },
  {
   "cell_type": "code",
   "execution_count": 6,
   "id": "01706ff5",
   "metadata": {},
   "outputs": [],
   "source": [
    "def tokenize(string):\n",
    "    tokenizer = nltk.tokenize.ToktokTokenizer()\n",
    "    print(tokenizer.tokenize(string, return_str = True))"
   ]
  },
  {
   "cell_type": "code",
   "execution_count": 8,
   "id": "92aa248e",
   "metadata": {},
   "outputs": [
    {
     "name": "stdout",
     "output_type": "stream",
     "text": [
      "over 250000 without power as major winter storm slogs east\n",
      "a serious ice storm is hitting from eastern texas to southwestern ohio with heavy snow to the north\n",
      "\n",
      "\n",
      "ice coats tree branches in dallas on feb 3 lm oteroap\n",
      "more than 100 million americans from the permian basin of west texas to maines northern border are included in winter weather advisories or winter storm and ice storm warnings a swath of weather alerts about 2000 miles long\n",
      "\n",
      "in tennessee the number of power outages had spiked to 140000 thursday afternoon many of them near memphis outage numbers were also climbing in ohio 26000 and kentucky 15000 according to poweroutageus which tracks outages nationwide the outages were mostly because of ice accumulation\n",
      "\n",
      "outage numbers in texas and arkansas which peaked thursday morning over 70000 and 25000 respectively were slowly declining in the afternoon as freezing rain transitioned more to sleet and snow which do not accumulate as readily on trees and powerlines the outage count in texas had dropped below 50000\n",
      "\n",
      "air travel nationwide was plagued due to the sprawling storm there were more than 5500 cancellations and 3300 delays according to the tracking website flightaware with many concentrated in texas\n",
      "\n",
      "more than 1100 flights departing from or scheduled to arrive at dallas fort worth international airport were canceled the airport tweeted earlier that runways were being treated for snow and ice more than 400 combined flights were canceled at austinbergstrom international airport and more than 350 were canceled at dallass love field\n",
      "\n",
      "4700 flights canceled thursday as winter storms slam midwest southern us\n",
      "\n",
      "substantial accumulations of ice enough to snap tree limbs and trigger power outages were expected from roughly eastern texas to southwestern ohio to the north heavy snowfall exceeding 6 inches was projected in st louis indianapolis cleveland buffalo and burlington vt into friday\n",
      "\n",
      "the national weather service warned of hazardous road conditions throughout the affected areas which it said would probably see wellbelowaverage temperatures for at least the next couple of days\n",
      "\n",
      "parts of the mississippi river valley and the great plains could record temperatures 20 to 40 degrees below average the weather service said it called the storm large prolonged and significant\n",
      "\n",
      "in the deep south the weather service projected elevated chances for severe thunderstorms particularly in a zone from southeastern mississippi to central and southern alabama where a tornado watch was in effect until 6 pm thursday\n",
      "\n",
      "the weather service in birmingham warned of a large and extremely dangerous tornado near sawyerville ala about 30 miles southwest of tuscaloosa just after 3 pm eastern time where there were reports of damage on social media\n",
      "\n",
      "on feb 2 a major winter storm began dumping a wintry mess on more than 80 million americans across the midwest and south the washington post\n",
      "freezing rain was ongoing in eastern texas eastern arkansas western tennessee northern kentucky and southwest ohio including memphis and cincinnati\n",
      "\n",
      "some of the worst conditions were in southwest tennessee with over 120000 power outages reported in shelby county home to memphis as much as half an inch of ice had accumulated on tree limbs which were crackling under its weight\n",
      "\n",
      "travel conditions are bad and getting worse around cincinnati where there had been a glaze of ice the weather service tweeted the ice was anticipated to switch to snow in cincinnati during the evening\n",
      "\n",
      "the weather service issued a special bulletin for the indianakentucky border area southern ohio and far western pennsylvania warning of a long duration of sleet and freezing rain continuing into thursday evening\n",
      "\n",
      "in dallas freezing rain and sleet had changed to snow late morning and a heavy burst passed through the city midday road conditions are treacherous the weather service tweeted snow was beginning to taper off in dallas late in the afternoon\n",
      "\n",
      "farther north steady snow was falling in an extensive zone from little rock to st louis to cleveland to buffalo to burlington vt\n",
      "\n",
      "arctic high pressure parked over the dakotas is supplying frigid air for a front that stretches from southeast louisiana to nashville to pittsburgh to northern maine\n",
      "\n",
      "moisture riding up and over the cold front from the south is falling into a subfreezing air mass hardening into ice on contact and quickly accreting into a hazardous glaze\n",
      "\n",
      "meanwhile flooding rain has been falling on the systems warm side in the deep south with flash flood watches up in northern alabama northeast georgia southeast tennessee and southwest north carolina\n",
      "\n",
      "frozen precipitation should end in texas on thursday evening with even a little sleet possible in houston before it shuts down\n",
      "\n",
      "the heaviest icing is expected in eastern arkansas western tennessee northern kentucky and parts of southern ohio thursday but should gradually taper off thursday night possibly ending as brief period of snow\n",
      "\n",
      "the most substantial icy precipitation will shift from the tennessee valley into west virginia and central pennsylvania on thursday night into friday morning pittsburgh and state college pa could see significant icing overnight before precipitation flips to snow areas northwest of new york city in the hudson valley could see icy conditions friday morning as well\n",
      "\n",
      "the snow should finally end around little rock and st louis early thursday evening however it will continue well into the overnight hours in southeast missouri southern illinois southern indiana indiana and the northern third of ohio\n",
      "\n",
      "extreme northwest pennsylvania upstate new york around the finger lakes and the tug hill plateau and vermont will see snowfall well into friday the snow will enter maine and new hampshire in northern new england on thursday afternoon\n",
      "\n",
      "the heaviest snow totals will be realized just north of the freezing rain and sleet line with another 6 to 12 inches possible especially in areas that havent seen snow yet into the interior northeast\n",
      "\n",
      "the storms final act comes friday in eastern new england when morning rain will transition to freezing rain sleet and all snow as temperatures crash into the 20s during the evening a flash freeze overnight into early saturday will cause any remnant moisture and slushy slop on the roadways to harden and freeze\n",
      "\n",
      "the power situation in texas\n",
      "\n",
      "\n",
      "ahead of the storm texas gov greg abbott r said wednesday that no one can guarantee there would not be power outages during the first significant test of the states power grid a year after a historic freeze killed hundreds of residents and left millions without power for days\n",
      "\n",
      "the number of outages as of thursday were certainly an inconvenience but not that big of a deal in terms of what you might expect from a wind storm and ice storm said michael webber an energy resources professor at the university of texas at austin\n",
      "\n",
      "outages last year were driven largely by a massive imbalance between supply and demand he said but thursday seemed driven by wind or ice accumulation that can fell trees\n",
      "\n",
      "the power at webbers home was out but started to return during an interview with the washington post\n",
      "\n",
      "an outage for two hours not two and a half days he said underlining the difference from the major storm in 2021\n",
      "\n",
      "texas governor says no one can guarantee there wont be power outages in winter storm\n",
      "\n",
      "daniel cohan associate professor of environmental engineering at rice university in houston said thursdays outages had been localized which anywhere in the world could get when you have an ice storm come through and knock down tree branches and affect local power lines\n",
      "\n",
      "ahead of the winter storm texass state grid reported that its electric generation units and transmission facilities had met new standards webber said such inspections and winterization investments will have already been helpful but the system hasnt really been tested yet\n",
      "\n",
      "this storm will not be as cold for as long across as wide an area as last year he said so it isnt the same kind of test its a simpler milder storm in many ways and the equipment should be in better shape\n",
      "\n",
      "in the coming days webber said it will be helpful to monitor how cold it gets in houston the states biggest city will largely dictate the level of power demand he said he is also interested in how gas systems and gasproducing regions hold up to the cold and how that will affect gas supply\n",
      "\n",
      "cohan said hes watching how the wind farms fare whether major gas pipelines remain in working order and whether our old fleet of power plants perform better than they did last year\n",
      "\n",
      "if not too many wind farms ice gas supply stays adequate and not too many power plants fail in the freeze then well get through this fine and eke by with just enough supply cohan said\n",
      "\n",
      "snow and ice totals so far\n",
      "\n",
      "\n",
      "the snow had already piled up to impressive and disruptive levels through thursday midday with dozens of locations logging doubledigit accumulations leading the pack was colorado springs where 22 inches had piled up\n",
      "\n",
      "farther east chicago was initially predicted to be right on the fringe of snowfall and the atmosphere delivered chicagos midway airport tallied 11 inches of snow while ohare international only wound up with 56 roughly half that\n",
      "\n",
      "the ice event underway lagged the snow by about 12 hours meaning totals will increase as thursday wears on but some areas have already seen significant icing\n",
      "\n",
      "up to a halfinch of ice was reported in eastern oklahoma near the border with arkansas nearly onequarter inch had accumulated in fort smith ark\n",
      "\n",
      "in texas the counties of hunt fannin and collin north and east of dallas reported tree damage from overnight icing while the weather service reported a glaze of around 01 inches near wichita falls\n",
      "\n",
      "little rock had seen more sleet than freezing rain with the weather service reporting 25 inches in north little rock\n",
      "\n",
      "timothy bella contributed to this report\n"
     ]
    }
   ],
   "source": [
    "tokenize(text)"
   ]
  },
  {
   "cell_type": "code",
   "execution_count": null,
   "id": "dfc209bb",
   "metadata": {},
   "outputs": [],
   "source": []
  },
  {
   "cell_type": "markdown",
   "id": "1119f28d",
   "metadata": {},
   "source": [
    "3. Define a function named `stem`. It should accept some text and return the text after applying stemming to all the words."
   ]
  },
  {
   "cell_type": "code",
   "execution_count": 12,
   "id": "f60d6c3f",
   "metadata": {},
   "outputs": [],
   "source": [
    "def stem(string):\n",
    "    ps = nltk.porter.PorterStemmer()\n",
    "    stems = [ps.stem(word) for word in string.split()]\n",
    "    article_stemmed = ' '.join(stems)\n",
    "    print(article_stemmed)"
   ]
  },
  {
   "cell_type": "code",
   "execution_count": 13,
   "id": "827e188d",
   "metadata": {
    "scrolled": true
   },
   "outputs": [
    {
     "name": "stdout",
     "output_type": "stream",
     "text": [
      "over 250000 without power as major winter storm slog east a seriou ice storm is hit from eastern texa to southwestern ohio with heavi snow to the north ice coat tree branch in dalla on feb 3 lm oteroap more than 100 million american from the permian basin of west texa to main northern border are includ in winter weather advisori or winter storm and ice storm warn a swath of weather alert about 2000 mile long in tennesse the number of power outag had spike to 140000 thursday afternoon mani of them near memphi outag number were also climb in ohio 26000 and kentucki 15000 accord to poweroutageu which track outag nationwid the outag were mostli becaus of ice accumul outag number in texa and arkansa which peak thursday morn over 70000 and 25000 respect were slowli declin in the afternoon as freez rain transit more to sleet and snow which do not accumul as readili on tree and powerlin the outag count in texa had drop below 50000 air travel nationwid wa plagu due to the sprawl storm there were more than 5500 cancel and 3300 delay accord to the track websit flightawar with mani concentr in texa more than 1100 flight depart from or schedul to arriv at dalla fort worth intern airport were cancel the airport tweet earlier that runway were be treat for snow and ice more than 400 combin flight were cancel at austinbergstrom intern airport and more than 350 were cancel at dallass love field 4700 flight cancel thursday as winter storm slam midwest southern us substanti accumul of ice enough to snap tree limb and trigger power outag were expect from roughli eastern texa to southwestern ohio to the north heavi snowfal exceed 6 inch wa project in st loui indianapoli cleveland buffalo and burlington vt into friday the nation weather servic warn of hazard road condit throughout the affect area which it said would probabl see wellbelowaverag temperatur for at least the next coupl of day part of the mississippi river valley and the great plain could record temperatur 20 to 40 degre below averag the weather servic said it call the storm larg prolong and signific in the deep south the weather servic project elev chanc for sever thunderstorm particularli in a zone from southeastern mississippi to central and southern alabama where a tornado watch wa in effect until 6 pm thursday the weather servic in birmingham warn of a larg and extrem danger tornado near sawyervil ala about 30 mile southwest of tuscaloosa just after 3 pm eastern time where there were report of damag on social media on feb 2 a major winter storm began dump a wintri mess on more than 80 million american across the midwest and south the washington post freez rain wa ongo in eastern texa eastern arkansa western tennesse northern kentucki and southwest ohio includ memphi and cincinnati some of the worst condit were in southwest tennesse with over 120000 power outag report in shelbi counti home to memphi as much as half an inch of ice had accumul on tree limb which were crackl under it weight travel condit are bad and get wors around cincinnati where there had been a glaze of ice the weather servic tweet the ice wa anticip to switch to snow in cincinnati dure the even the weather servic issu a special bulletin for the indianakentucki border area southern ohio and far western pennsylvania warn of a long durat of sleet and freez rain continu into thursday even in dalla freez rain and sleet had chang to snow late morn and a heavi burst pass through the citi midday road condit are treacher the weather servic tweet snow wa begin to taper off in dalla late in the afternoon farther north steadi snow wa fall in an extens zone from littl rock to st loui to cleveland to buffalo to burlington vt arctic high pressur park over the dakota is suppli frigid air for a front that stretch from southeast louisiana to nashvil to pittsburgh to northern main moistur ride up and over the cold front from the south is fall into a subfreez air mass harden into ice on contact and quickli accret into a hazard glaze meanwhil flood rain ha been fall on the system warm side in the deep south with flash flood watch up in northern alabama northeast georgia southeast tennesse and southwest north carolina frozen precipit should end in texa on thursday even with even a littl sleet possibl in houston befor it shut down the heaviest ice is expect in eastern arkansa western tennesse northern kentucki and part of southern ohio thursday but should gradual taper off thursday night possibl end as brief period of snow the most substanti ici precipit will shift from the tennesse valley into west virginia and central pennsylvania on thursday night into friday morn pittsburgh and state colleg pa could see signific ice overnight befor precipit flip to snow area northwest of new york citi in the hudson valley could see ici condit friday morn as well the snow should final end around littl rock and st loui earli thursday even howev it will continu well into the overnight hour in southeast missouri southern illinoi southern indiana indiana and the northern third of ohio extrem northwest pennsylvania upstat new york around the finger lake and the tug hill plateau and vermont will see snowfal well into friday the snow will enter main and new hampshir in northern new england on thursday afternoon the heaviest snow total will be realiz just north of the freez rain and sleet line with anoth 6 to 12 inch possibl especi in area that havent seen snow yet into the interior northeast the storm final act come friday in eastern new england when morn rain will transit to freez rain sleet and all snow as temperatur crash into the 20 dure the even a flash freez overnight into earli saturday will caus ani remnant moistur and slushi slop on the roadway to harden and freez the power situat in texa ahead of the storm texa gov greg abbott r said wednesday that no one can guarante there would not be power outag dure the first signific test of the state power grid a year after a histor freez kill hundr of resid and left million without power for day the number of outag as of thursday were certainli an inconveni but not that big of a deal in term of what you might expect from a wind storm and ice storm said michael webber an energi resourc professor at the univers of texa at austin outag last year were driven larg by a massiv imbal between suppli and demand he said but thursday seem driven by wind or ice accumul that can fell tree the power at webber home wa out but start to return dure an interview with the washington post an outag for two hour not two and a half day he said underlin the differ from the major storm in 2021 texa governor say no one can guarante there wont be power outag in winter storm daniel cohan associ professor of environment engin at rice univers in houston said thursday outag had been local which anywher in the world could get when you have an ice storm come through and knock down tree branch and affect local power line ahead of the winter storm texass state grid report that it electr gener unit and transmiss facil had met new standard webber said such inspect and winter invest will have alreadi been help but the system hasnt realli been test yet thi storm will not be as cold for as long across as wide an area as last year he said so it isnt the same kind of test it a simpler milder storm in mani way and the equip should be in better shape in the come day webber said it will be help to monitor how cold it get in houston the state biggest citi will larg dictat the level of power demand he said he is also interest in how ga system and gasproduc region hold up to the cold and how that will affect ga suppli cohan said he watch how the wind farm fare whether major ga pipelin remain in work order and whether our old fleet of power plant perform better than they did last year if not too mani wind farm ice ga suppli stay adequ and not too mani power plant fail in the freez then well get through thi fine and eke by with just enough suppli cohan said snow and ice total so far the snow had alreadi pile up to impress and disrupt level through thursday midday with dozen of locat log doubledigit accumul lead the pack wa colorado spring where 22 inch had pile up farther east chicago wa initi predict to be right on the fring of snowfal and the atmospher deliv chicago midway airport talli 11 inch of snow while ohar intern onli wound up with 56 roughli half that the ice event underway lag the snow by about 12 hour mean total will increas as thursday wear on but some area have alreadi seen signific ice up to a halfinch of ice wa report in eastern oklahoma near the border with arkansa nearli onequart inch had accumul in fort smith ark in texa the counti of hunt fannin and collin north and east of dalla report tree damag from overnight ice while the weather servic report a glaze of around 01 inch near wichita fall littl rock had seen more sleet than freez rain with the weather servic report 25 inch in north littl rock timothi bella contribut to thi report\n"
     ]
    }
   ],
   "source": [
    "stem(text)"
   ]
  },
  {
   "cell_type": "code",
   "execution_count": null,
   "id": "bd81a3ae",
   "metadata": {},
   "outputs": [],
   "source": []
  },
  {
   "cell_type": "markdown",
   "id": "6e4497ea",
   "metadata": {},
   "source": [
    "4. Define a function named `lemmatize`. It should accept some text and return the text after applying lemmatization to each word."
   ]
  },
  {
   "cell_type": "code",
   "execution_count": 14,
   "id": "4484a79f",
   "metadata": {},
   "outputs": [],
   "source": [
    "def lemmatize(string):\n",
    "    wnl = nltk.stem.WordNetLemmatizer()\n",
    "    lemmas = [wnl.lemmatize(word) for word in string.split()]\n",
    "    article_lemmatized = ' '.join(lemmas)\n",
    "    print(article_lemmatized)"
   ]
  },
  {
   "cell_type": "code",
   "execution_count": 15,
   "id": "89b027ed",
   "metadata": {},
   "outputs": [
    {
     "name": "stdout",
     "output_type": "stream",
     "text": [
      "over 250000 without power a major winter storm slogs east a serious ice storm is hitting from eastern texas to southwestern ohio with heavy snow to the north ice coat tree branch in dallas on feb 3 lm oteroap more than 100 million american from the permian basin of west texas to maine northern border are included in winter weather advisory or winter storm and ice storm warning a swath of weather alert about 2000 mile long in tennessee the number of power outage had spiked to 140000 thursday afternoon many of them near memphis outage number were also climbing in ohio 26000 and kentucky 15000 according to poweroutageus which track outage nationwide the outage were mostly because of ice accumulation outage number in texas and arkansas which peaked thursday morning over 70000 and 25000 respectively were slowly declining in the afternoon a freezing rain transitioned more to sleet and snow which do not accumulate a readily on tree and powerlines the outage count in texas had dropped below 50000 air travel nationwide wa plagued due to the sprawling storm there were more than 5500 cancellation and 3300 delay according to the tracking website flightaware with many concentrated in texas more than 1100 flight departing from or scheduled to arrive at dallas fort worth international airport were canceled the airport tweeted earlier that runway were being treated for snow and ice more than 400 combined flight were canceled at austinbergstrom international airport and more than 350 were canceled at dallas love field 4700 flight canceled thursday a winter storm slam midwest southern u substantial accumulation of ice enough to snap tree limb and trigger power outage were expected from roughly eastern texas to southwestern ohio to the north heavy snowfall exceeding 6 inch wa projected in st louis indianapolis cleveland buffalo and burlington vt into friday the national weather service warned of hazardous road condition throughout the affected area which it said would probably see wellbelowaverage temperature for at least the next couple of day part of the mississippi river valley and the great plain could record temperature 20 to 40 degree below average the weather service said it called the storm large prolonged and significant in the deep south the weather service projected elevated chance for severe thunderstorm particularly in a zone from southeastern mississippi to central and southern alabama where a tornado watch wa in effect until 6 pm thursday the weather service in birmingham warned of a large and extremely dangerous tornado near sawyerville ala about 30 mile southwest of tuscaloosa just after 3 pm eastern time where there were report of damage on social medium on feb 2 a major winter storm began dumping a wintry mess on more than 80 million american across the midwest and south the washington post freezing rain wa ongoing in eastern texas eastern arkansas western tennessee northern kentucky and southwest ohio including memphis and cincinnati some of the worst condition were in southwest tennessee with over 120000 power outage reported in shelby county home to memphis a much a half an inch of ice had accumulated on tree limb which were crackling under it weight travel condition are bad and getting worse around cincinnati where there had been a glaze of ice the weather service tweeted the ice wa anticipated to switch to snow in cincinnati during the evening the weather service issued a special bulletin for the indianakentucky border area southern ohio and far western pennsylvania warning of a long duration of sleet and freezing rain continuing into thursday evening in dallas freezing rain and sleet had changed to snow late morning and a heavy burst passed through the city midday road condition are treacherous the weather service tweeted snow wa beginning to taper off in dallas late in the afternoon farther north steady snow wa falling in an extensive zone from little rock to st louis to cleveland to buffalo to burlington vt arctic high pressure parked over the dakota is supplying frigid air for a front that stretch from southeast louisiana to nashville to pittsburgh to northern maine moisture riding up and over the cold front from the south is falling into a subfreezing air mass hardening into ice on contact and quickly accreting into a hazardous glaze meanwhile flooding rain ha been falling on the system warm side in the deep south with flash flood watch up in northern alabama northeast georgia southeast tennessee and southwest north carolina frozen precipitation should end in texas on thursday evening with even a little sleet possible in houston before it shuts down the heaviest icing is expected in eastern arkansas western tennessee northern kentucky and part of southern ohio thursday but should gradually taper off thursday night possibly ending a brief period of snow the most substantial icy precipitation will shift from the tennessee valley into west virginia and central pennsylvania on thursday night into friday morning pittsburgh and state college pa could see significant icing overnight before precipitation flip to snow area northwest of new york city in the hudson valley could see icy condition friday morning a well the snow should finally end around little rock and st louis early thursday evening however it will continue well into the overnight hour in southeast missouri southern illinois southern indiana indiana and the northern third of ohio extreme northwest pennsylvania upstate new york around the finger lake and the tug hill plateau and vermont will see snowfall well into friday the snow will enter maine and new hampshire in northern new england on thursday afternoon the heaviest snow total will be realized just north of the freezing rain and sleet line with another 6 to 12 inch possible especially in area that havent seen snow yet into the interior northeast the storm final act come friday in eastern new england when morning rain will transition to freezing rain sleet and all snow a temperature crash into the 20 during the evening a flash freeze overnight into early saturday will cause any remnant moisture and slushy slop on the roadway to harden and freeze the power situation in texas ahead of the storm texas gov greg abbott r said wednesday that no one can guarantee there would not be power outage during the first significant test of the state power grid a year after a historic freeze killed hundred of resident and left million without power for day the number of outage a of thursday were certainly an inconvenience but not that big of a deal in term of what you might expect from a wind storm and ice storm said michael webber an energy resource professor at the university of texas at austin outage last year were driven largely by a massive imbalance between supply and demand he said but thursday seemed driven by wind or ice accumulation that can fell tree the power at webbers home wa out but started to return during an interview with the washington post an outage for two hour not two and a half day he said underlining the difference from the major storm in 2021 texas governor say no one can guarantee there wont be power outage in winter storm daniel cohan associate professor of environmental engineering at rice university in houston said thursday outage had been localized which anywhere in the world could get when you have an ice storm come through and knock down tree branch and affect local power line ahead of the winter storm texas state grid reported that it electric generation unit and transmission facility had met new standard webber said such inspection and winterization investment will have already been helpful but the system hasnt really been tested yet this storm will not be a cold for a long across a wide an area a last year he said so it isnt the same kind of test it a simpler milder storm in many way and the equipment should be in better shape in the coming day webber said it will be helpful to monitor how cold it get in houston the state biggest city will largely dictate the level of power demand he said he is also interested in how gas system and gasproducing region hold up to the cold and how that will affect gas supply cohan said he watching how the wind farm fare whether major gas pipeline remain in working order and whether our old fleet of power plant perform better than they did last year if not too many wind farm ice gas supply stay adequate and not too many power plant fail in the freeze then well get through this fine and eke by with just enough supply cohan said snow and ice total so far the snow had already piled up to impressive and disruptive level through thursday midday with dozen of location logging doubledigit accumulation leading the pack wa colorado spring where 22 inch had piled up farther east chicago wa initially predicted to be right on the fringe of snowfall and the atmosphere delivered chicago midway airport tallied 11 inch of snow while ohare international only wound up with 56 roughly half that the ice event underway lagged the snow by about 12 hour meaning total will increase a thursday wear on but some area have already seen significant icing up to a halfinch of ice wa reported in eastern oklahoma near the border with arkansas nearly onequarter inch had accumulated in fort smith ark in texas the county of hunt fannin and collin north and east of dallas reported tree damage from overnight icing while the weather service reported a glaze of around 01 inch near wichita fall little rock had seen more sleet than freezing rain with the weather service reporting 25 inch in north little rock timothy bella contributed to this report\n"
     ]
    }
   ],
   "source": [
    "lemmatize(text)"
   ]
  },
  {
   "cell_type": "code",
   "execution_count": null,
   "id": "10f26aa5",
   "metadata": {},
   "outputs": [],
   "source": []
  },
  {
   "cell_type": "markdown",
   "id": "5dd7655f",
   "metadata": {},
   "source": [
    "5. Define a function named `remove_stopwords`. It should accept some text and return the text after removing all the stopwords.\n",
    "\n",
    "    This function should define two optional parameters, `extra_words` and `exclude_words`. These parameters should define any additional stop words to include, and any words that we don't want to remove."
   ]
  },
  {
   "cell_type": "code",
   "execution_count": 16,
   "id": "e005cd0a",
   "metadata": {},
   "outputs": [],
   "source": [
    "def remove_stopwords(string, extra_words = [], exclude_words = []):\n",
    "    stopword_list = stopwords.words('english')\n",
    "    stopword_list = set(stopword_list) - set(exclude_words)\n",
    "    stopword_list = stopword_list.union(set(extra_words))\n",
    "    words = string.split()\n",
    "    filtered_words = [word for word in words if word not in stopword_list]\n",
    "    string_wo_stopwords = ' '.join(filtered_words)\n",
    "    \n",
    "    return string_wo_stopwords"
   ]
  },
  {
   "cell_type": "code",
   "execution_count": 17,
   "id": "58b3ff5d",
   "metadata": {
    "scrolled": true
   },
   "outputs": [
    {
     "data": {
      "text/plain": [
       "'250000 without power major winter storm slogs east serious ice storm hitting eastern texas southwestern ohio heavy snow north ice coats tree branches dallas feb 3 lm oteroap 100 million americans permian basin west texas maines northern border included winter weather advisories winter storm ice storm warnings swath weather alerts 2000 miles long tennessee number power outages spiked 140000 thursday afternoon many near memphis outage numbers also climbing ohio 26000 kentucky 15000 according poweroutageus tracks outages nationwide outages mostly ice accumulation outage numbers texas arkansas peaked thursday morning 70000 25000 respectively slowly declining afternoon freezing rain transitioned sleet snow accumulate readily trees powerlines outage count texas dropped 50000 air travel nationwide plagued due sprawling storm 5500 cancellations 3300 delays according tracking website flightaware many concentrated texas 1100 flights departing scheduled arrive dallas fort worth international airport canceled airport tweeted earlier runways treated snow ice 400 combined flights canceled austinbergstrom international airport 350 canceled dallass love field 4700 flights canceled thursday winter storms slam midwest southern us substantial accumulations ice enough snap tree limbs trigger power outages expected roughly eastern texas southwestern ohio north heavy snowfall exceeding 6 inches projected st louis indianapolis cleveland buffalo burlington vt friday national weather service warned hazardous road conditions throughout affected areas said would probably see wellbelowaverage temperatures least next couple days parts mississippi river valley great plains could record temperatures 20 40 degrees average weather service said called storm large prolonged significant deep south weather service projected elevated chances severe thunderstorms particularly zone southeastern mississippi central southern alabama tornado watch effect 6 pm thursday weather service birmingham warned large extremely dangerous tornado near sawyerville ala 30 miles southwest tuscaloosa 3 pm eastern time reports damage social media feb 2 major winter storm began dumping wintry mess 80 million americans across midwest south washington post freezing rain ongoing eastern texas eastern arkansas western tennessee northern kentucky southwest ohio including memphis cincinnati worst conditions southwest tennessee 120000 power outages reported shelby county home memphis much half inch ice accumulated tree limbs crackling weight travel conditions bad getting worse around cincinnati glaze ice weather service tweeted ice anticipated switch snow cincinnati evening weather service issued special bulletin indianakentucky border area southern ohio far western pennsylvania warning long duration sleet freezing rain continuing thursday evening dallas freezing rain sleet changed snow late morning heavy burst passed city midday road conditions treacherous weather service tweeted snow beginning taper dallas late afternoon farther north steady snow falling extensive zone little rock st louis cleveland buffalo burlington vt arctic high pressure parked dakotas supplying frigid air front stretches southeast louisiana nashville pittsburgh northern maine moisture riding cold front south falling subfreezing air mass hardening ice contact quickly accreting hazardous glaze meanwhile flooding rain falling systems warm side deep south flash flood watches northern alabama northeast georgia southeast tennessee southwest north carolina frozen precipitation end texas thursday evening even little sleet possible houston shuts heaviest icing expected eastern arkansas western tennessee northern kentucky parts southern ohio thursday gradually taper thursday night possibly ending brief period snow substantial icy precipitation shift tennessee valley west virginia central pennsylvania thursday night friday morning pittsburgh state college pa could see significant icing overnight precipitation flips snow areas northwest new york city hudson valley could see icy conditions friday morning well snow finally end around little rock st louis early thursday evening however continue well overnight hours southeast missouri southern illinois southern indiana indiana northern third ohio extreme northwest pennsylvania upstate new york around finger lakes tug hill plateau vermont see snowfall well friday snow enter maine new hampshire northern new england thursday afternoon heaviest snow totals realized north freezing rain sleet line another 6 12 inches possible especially areas havent seen snow yet interior northeast storms final act comes friday eastern new england morning rain transition freezing rain sleet snow temperatures crash 20s evening flash freeze overnight early saturday cause remnant moisture slushy slop roadways harden freeze power situation texas ahead storm texas gov greg abbott r said wednesday one guarantee would power outages first significant test states power grid year historic freeze killed hundreds residents left millions without power days number outages thursday certainly inconvenience big deal terms might expect wind storm ice storm said michael webber energy resources professor university texas austin outages last year driven largely massive imbalance supply demand said thursday seemed driven wind ice accumulation fell trees power webbers home started return interview washington post outage two hours two half days said underlining difference major storm 2021 texas governor says one guarantee wont power outages winter storm daniel cohan associate professor environmental engineering rice university houston said thursdays outages localized anywhere world could get ice storm come knock tree branches affect local power lines ahead winter storm texass state grid reported electric generation units transmission facilities met new standards webber said inspections winterization investments already helpful system hasnt really tested yet storm cold long across wide area last year said isnt kind test simpler milder storm many ways equipment better shape coming days webber said helpful monitor cold gets houston states biggest city largely dictate level power demand said also interested gas systems gasproducing regions hold cold affect gas supply cohan said hes watching wind farms fare whether major gas pipelines remain working order whether old fleet power plants perform better last year many wind farms ice gas supply stays adequate many power plants fail freeze well get fine eke enough supply cohan said snow ice totals far snow already piled impressive disruptive levels thursday midday dozens locations logging doubledigit accumulations leading pack colorado springs 22 inches piled farther east chicago initially predicted right fringe snowfall atmosphere delivered chicagos midway airport tallied 11 inches snow ohare international wound 56 roughly half ice event underway lagged snow 12 hours meaning totals increase thursday wears areas already seen significant icing halfinch ice reported eastern oklahoma near border arkansas nearly onequarter inch accumulated fort smith ark texas counties hunt fannin collin north east dallas reported tree damage overnight icing weather service reported glaze around 01 inches near wichita falls little rock seen sleet freezing rain weather service reporting 25 inches north little rock timothy bella contributed report'"
      ]
     },
     "execution_count": 17,
     "metadata": {},
     "output_type": "execute_result"
    }
   ],
   "source": [
    "remove_stopwords(text)"
   ]
  },
  {
   "cell_type": "code",
   "execution_count": null,
   "id": "975c266d",
   "metadata": {},
   "outputs": [],
   "source": []
  },
  {
   "cell_type": "markdown",
   "id": "0f1db7e2",
   "metadata": {},
   "source": [
    "6. Use your data from the acquire to produce a dataframe of the news articles. Name the dataframe `news_df`."
   ]
  },
  {
   "cell_type": "code",
   "execution_count": null,
   "id": "9feba459",
   "metadata": {},
   "outputs": [],
   "source": []
  },
  {
   "cell_type": "code",
   "execution_count": null,
   "id": "aa1aa396",
   "metadata": {},
   "outputs": [],
   "source": []
  },
  {
   "cell_type": "markdown",
   "id": "5a3f6411",
   "metadata": {},
   "source": [
    "7. Make another dataframe for the Codeup blog posts. Name the dataframe `codeup_df`."
   ]
  },
  {
   "cell_type": "code",
   "execution_count": null,
   "id": "309ae7a6",
   "metadata": {},
   "outputs": [],
   "source": []
  },
  {
   "cell_type": "code",
   "execution_count": null,
   "id": "4bbba09d",
   "metadata": {},
   "outputs": [],
   "source": []
  },
  {
   "cell_type": "markdown",
   "id": "7e3a6dc1",
   "metadata": {},
   "source": [
    "8. For each dataframe, produce the following columns:\n",
    "\n",
    " - `title` to hold the title\n",
    " - `original` to hold the original article/post content\n",
    " - `clean` to hold the normalized and tokenized original with the stopwords removed.\n",
    " - `stemmed` to hold the stemmed version of the cleaned data.\n",
    " - `lemmatized` to hold the lemmatized version of the cleaned data."
   ]
  },
  {
   "cell_type": "code",
   "execution_count": null,
   "id": "e3ab5a83",
   "metadata": {},
   "outputs": [],
   "source": []
  },
  {
   "cell_type": "code",
   "execution_count": null,
   "id": "9a9c0647",
   "metadata": {},
   "outputs": [],
   "source": []
  },
  {
   "cell_type": "markdown",
   "id": "52bf3d5f",
   "metadata": {},
   "source": [
    "9. Ask yourself:\n",
    "\n",
    " - If your corpus is 493KB, would you prefer to use stemmed or lemmatized text? - \n",
    " - If your corpus is 25MB, would you prefer to use stemmed or lemmatized text?\n",
    " - If your corpus is 200TB of text and you're charged by the megabyte for your hosted computational resources, would you prefer to use stemmed or lemmatized text?"
   ]
  },
  {
   "cell_type": "code",
   "execution_count": null,
   "id": "1d161853",
   "metadata": {},
   "outputs": [],
   "source": []
  },
  {
   "cell_type": "code",
   "execution_count": null,
   "id": "ffcbf28b",
   "metadata": {},
   "outputs": [],
   "source": []
  }
 ],
 "metadata": {
  "kernelspec": {
   "display_name": "Python 3 (ipykernel)",
   "language": "python",
   "name": "python3"
  },
  "language_info": {
   "codemirror_mode": {
    "name": "ipython",
    "version": 3
   },
   "file_extension": ".py",
   "mimetype": "text/x-python",
   "name": "python",
   "nbconvert_exporter": "python",
   "pygments_lexer": "ipython3",
   "version": "3.7.3"
  }
 },
 "nbformat": 4,
 "nbformat_minor": 5
}
